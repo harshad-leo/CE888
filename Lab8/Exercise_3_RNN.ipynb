{
  "nbformat": 4,
  "nbformat_minor": 0,
  "metadata": {
    "kernelspec": {
      "display_name": "Python 3",
      "language": "python",
      "name": "python3"
    },
    "language_info": {
      "codemirror_mode": {
        "name": "ipython",
        "version": 3
      },
      "file_extension": ".py",
      "mimetype": "text/x-python",
      "name": "python",
      "nbconvert_exporter": "python",
      "pygments_lexer": "ipython3",
      "version": "3.6.5"
    },
    "colab": {
      "name": "Exercise_3_RNN.ipynb",
      "provenance": [],
      "include_colab_link": true
    },
    "accelerator": "GPU"
  },
  "cells": [
    {
      "cell_type": "markdown",
      "metadata": {
        "id": "view-in-github",
        "colab_type": "text"
      },
      "source": [
        "<a href=\"https://colab.research.google.com/github/harshad-leo/CE888/blob/main/Lab8/Exercise_3_RNN.ipynb\" target=\"_parent\"><img src=\"https://colab.research.google.com/assets/colab-badge.svg\" alt=\"Open In Colab\"/></a>"
      ]
    },
    {
      "cell_type": "code",
      "metadata": {
        "id": "2OEAdhW0qjg9",
        "colab": {
          "base_uri": "https://localhost:8080/",
          "height": 35
        },
        "outputId": "ebe8d6e8-42c0-4aae-e6e9-8605acc526d6"
      },
      "source": [
        "import keras\n",
        "keras.__version__\n"
      ],
      "execution_count": null,
      "outputs": [
        {
          "output_type": "execute_result",
          "data": {
            "application/vnd.google.colaboratory.intrinsic+json": {
              "type": "string"
            },
            "text/plain": [
              "'2.4.3'"
            ]
          },
          "metadata": {
            "tags": []
          },
          "execution_count": 1
        }
      ]
    },
    {
      "cell_type": "code",
      "metadata": {
        "id": "TYsNtFxgqjhC",
        "colab": {
          "base_uri": "https://localhost:8080/"
        },
        "outputId": "07963198-5587-499f-a6aa-c54f4217d87b"
      },
      "source": [
        "from keras.preprocessing.text import Tokenizer\n",
        "samples = ['The cat sat on the mat.', 'The dog ate my homework.']\n",
        "\n",
        "# We create a tokenizer, configured to only take into account the top-1000 most common words\n",
        "tokenizer = Tokenizer(num_words=1000)\n",
        "\n",
        "# This builds the word index\n",
        "tokenizer.fit_on_texts(samples)\n",
        "\n",
        "# This turns strings into lists of integer indices.\n",
        "sequences = tokenizer.texts_to_sequences(samples)\n",
        "\n",
        "# You could also directly get the one-hot binary representations.\n",
        "# Note that other vectorization modes than one-hot encoding are supported!\n",
        "one_hot_results = tokenizer.texts_to_matrix(samples, mode='binary')\n",
        "\n",
        "# This is how you can recover the word index that was computed\n",
        "word_index = tokenizer.word_index\n",
        "print('Found %s unique tokens.' % len(word_index))"
      ],
      "execution_count": null,
      "outputs": [
        {
          "output_type": "stream",
          "text": [
            "Found 9 unique tokens.\n"
          ],
          "name": "stdout"
        }
      ]
    },
    {
      "cell_type": "code",
      "metadata": {
        "id": "_1bFuvqKqjhF",
        "colab": {
          "base_uri": "https://localhost:8080/"
        },
        "outputId": "a749397d-efb6-4264-afca-814a63398b7c"
      },
      "source": [
        "one_hot_results"
      ],
      "execution_count": null,
      "outputs": [
        {
          "output_type": "execute_result",
          "data": {
            "text/plain": [
              "array([[0., 1., 1., ..., 0., 0., 0.],\n",
              "       [0., 1., 0., ..., 0., 0., 0.]])"
            ]
          },
          "metadata": {
            "tags": []
          },
          "execution_count": 3
        }
      ]
    },
    {
      "cell_type": "markdown",
      "metadata": {
        "id": "95o1mdJkqjhI"
      },
      "source": [
        "Using word-embeddings "
      ]
    },
    {
      "cell_type": "code",
      "metadata": {
        "id": "DSAIqfdoqjhJ",
        "colab": {
          "base_uri": "https://localhost:8080/"
        },
        "outputId": "2ee598b8-f675-469b-9615-e6817c4c7a90"
      },
      "source": [
        "from keras.datasets import imdb\n",
        "from keras.preprocessing import sequence\n",
        "\n",
        "max_features = 10000\n",
        "maxlen = 500\n",
        "batch_size = 32\n",
        "print('Loading data...')\n",
        "(input_train, y_train), (input_test, y_test) = imdb.load_data(num_words=max_features)\n",
        "print(len(input_train), 'train sequences')\n",
        "print(len(input_test), 'test sequences')\n",
        "print('Pad sequences (samples x time)')\n",
        "input_train = sequence.pad_sequences(input_train, maxlen=maxlen)\n",
        "input_test = sequence.pad_sequences(input_test, maxlen=maxlen)\n",
        "print('input_train shape:', input_train.shape)\n",
        "print('input_test shape:', input_test.shape)"
      ],
      "execution_count": null,
      "outputs": [
        {
          "output_type": "stream",
          "text": [
            "Loading data...\n",
            "Downloading data from https://storage.googleapis.com/tensorflow/tf-keras-datasets/imdb.npz\n",
            "17465344/17464789 [==============================] - 0s 0us/step\n"
          ],
          "name": "stdout"
        },
        {
          "output_type": "stream",
          "text": [
            "<string>:6: VisibleDeprecationWarning: Creating an ndarray from ragged nested sequences (which is a list-or-tuple of lists-or-tuples-or ndarrays with different lengths or shapes) is deprecated. If you meant to do this, you must specify 'dtype=object' when creating the ndarray\n",
            "/usr/local/lib/python3.7/dist-packages/tensorflow/python/keras/datasets/imdb.py:159: VisibleDeprecationWarning: Creating an ndarray from ragged nested sequences (which is a list-or-tuple of lists-or-tuples-or ndarrays with different lengths or shapes) is deprecated. If you meant to do this, you must specify 'dtype=object' when creating the ndarray\n",
            "  x_train, y_train = np.array(xs[:idx]), np.array(labels[:idx])\n",
            "/usr/local/lib/python3.7/dist-packages/tensorflow/python/keras/datasets/imdb.py:160: VisibleDeprecationWarning: Creating an ndarray from ragged nested sequences (which is a list-or-tuple of lists-or-tuples-or ndarrays with different lengths or shapes) is deprecated. If you meant to do this, you must specify 'dtype=object' when creating the ndarray\n",
            "  x_test, y_test = np.array(xs[idx:]), np.array(labels[idx:])\n"
          ],
          "name": "stderr"
        },
        {
          "output_type": "stream",
          "text": [
            "25000 train sequences\n",
            "25000 test sequences\n",
            "Pad sequences (samples x time)\n",
            "input_train shape: (25000, 500)\n",
            "input_test shape: (25000, 500)\n"
          ],
          "name": "stdout"
        }
      ]
    },
    {
      "cell_type": "markdown",
      "metadata": {
        "id": "5ssh97qDqjhM"
      },
      "source": [
        "### Training the model with Embedding and SimpleRNN layers"
      ]
    },
    {
      "cell_type": "code",
      "metadata": {
        "id": "t_lIlBilqjhN",
        "colab": {
          "base_uri": "https://localhost:8080/"
        },
        "outputId": "1ebe7431-09bc-4b32-9f23-c90dd5301c47"
      },
      "source": [
        "from keras.layers import Dense\n",
        "from keras.layers import Embedding, SimpleRNN\n",
        "from keras import models\n",
        "\n",
        "model = models.Sequential()\n",
        "model.add(Embedding(max_features, 32))\n",
        "model.add(SimpleRNN(32))\n",
        "model.add(Dense(1, activation='sigmoid'))\n",
        "model.summary()\n",
        "model.compile(optimizer='rmsprop', loss='binary_crossentropy', metrics=['acc'])\n",
        "history = model.fit(input_train, y_train, \n",
        "                    epochs=10,\n",
        "                    batch_size=128,\n",
        "                    validation_split=0.2)\n"
      ],
      "execution_count": null,
      "outputs": [
        {
          "output_type": "stream",
          "text": [
            "Model: \"sequential\"\n",
            "_________________________________________________________________\n",
            "Layer (type)                 Output Shape              Param #   \n",
            "=================================================================\n",
            "embedding (Embedding)        (None, None, 32)          320000    \n",
            "_________________________________________________________________\n",
            "simple_rnn (SimpleRNN)       (None, 32)                2080      \n",
            "_________________________________________________________________\n",
            "dense (Dense)                (None, 1)                 33        \n",
            "=================================================================\n",
            "Total params: 322,113\n",
            "Trainable params: 322,113\n",
            "Non-trainable params: 0\n",
            "_________________________________________________________________\n",
            "Epoch 1/10\n",
            "157/157 [==============================] - 81s 492ms/step - loss: 0.6567 - acc: 0.5892 - val_loss: 0.4418 - val_acc: 0.8162\n",
            "Epoch 2/10\n",
            "157/157 [==============================] - 78s 494ms/step - loss: 0.3799 - acc: 0.8445 - val_loss: 0.3948 - val_acc: 0.8288\n",
            "Epoch 3/10\n",
            "157/157 [==============================] - 77s 494ms/step - loss: 0.2796 - acc: 0.8952 - val_loss: 0.3667 - val_acc: 0.8570\n",
            "Epoch 4/10\n",
            "157/157 [==============================] - 77s 492ms/step - loss: 0.2053 - acc: 0.9235 - val_loss: 0.3526 - val_acc: 0.8604\n",
            "Epoch 5/10\n",
            "157/157 [==============================] - 77s 488ms/step - loss: 0.1582 - acc: 0.9422 - val_loss: 0.3839 - val_acc: 0.8566\n",
            "Epoch 6/10\n",
            "157/157 [==============================] - 75s 479ms/step - loss: 0.1104 - acc: 0.9617 - val_loss: 0.4369 - val_acc: 0.8382\n",
            "Epoch 7/10\n",
            "157/157 [==============================] - 76s 483ms/step - loss: 0.0686 - acc: 0.9790 - val_loss: 0.4945 - val_acc: 0.8170\n",
            "Epoch 8/10\n",
            "157/157 [==============================] - 76s 485ms/step - loss: 0.0514 - acc: 0.9843 - val_loss: 0.5001 - val_acc: 0.8476\n",
            "Epoch 9/10\n",
            "157/157 [==============================] - 77s 489ms/step - loss: 0.0289 - acc: 0.9919 - val_loss: 0.6807 - val_acc: 0.7762\n",
            "Epoch 10/10\n",
            "157/157 [==============================] - 76s 486ms/step - loss: 0.0266 - acc: 0.9915 - val_loss: 0.6230 - val_acc: 0.8170\n"
          ],
          "name": "stdout"
        }
      ]
    },
    {
      "cell_type": "code",
      "metadata": {
        "id": "w03gEZ2RqjhQ",
        "colab": {
          "base_uri": "https://localhost:8080/",
          "height": 545
        },
        "outputId": "f3b5804a-c615-4aed-edfc-74cc4a2d4aab"
      },
      "source": [
        "import matplotlib.pyplot as plt\n",
        "\n",
        "acc = history.history['acc']\n",
        "val_acc = history.history['val_acc']\n",
        "loss = history.history['loss']\n",
        "val_loss = history.history['val_loss']\n",
        "\n",
        "epochs = range(1, len(acc) + 1)\n",
        "\n",
        "plt.plot(epochs, acc, 'bo', label='Training acc')\n",
        "plt.plot(epochs, val_acc, 'b', label='Validation acc')\n",
        "plt.title('Training and validation accuracy')\n",
        "plt.legend()\n",
        "\n",
        "plt.figure()\n",
        "\n",
        "plt.plot(epochs, loss, 'bo', label='Training loss')\n",
        "plt.plot(epochs, val_loss, 'b', label='Validation loss')\n",
        "plt.title('Training and validation loss')\n",
        "plt.legend()\n",
        "\n",
        "plt.show()"
      ],
      "execution_count": null,
      "outputs": [
        {
          "output_type": "display_data",
          "data": {
            "image/png": "[encoded data removed]",
            "text/plain": [
              "<Figure size 432x288 with 1 Axes>"
            ]
          },
          "metadata": {
            "tags": [],
            "needs_background": "light"
          }
        },
        {
          "output_type": "display_data",
          "data": {
            "image/png": "[encoded data removed]",
            "text/plain": [
              "<Figure size 432x288 with 1 Axes>"
            ]
          },
          "metadata": {
            "tags": [],
            "needs_background": "light"
          }
        }
      ]
    },
    {
      "cell_type": "markdown",
      "metadata": {
        "id": "mz8CfgKcqjhT"
      },
      "source": [
        "### Training the model with Embedding and SimpleRNN layers"
      ]
    },
    {
      "cell_type": "code",
      "metadata": {
        "id": "U_wjH-KGqjhU",
        "colab": {
          "base_uri": "https://localhost:8080/"
        },
        "outputId": "5190513a-f8eb-4b5c-e762-1a40d9ceed08"
      },
      "source": [
        "from keras.layers import LSTM\n",
        "\n",
        "model = models.Sequential()\n",
        "model.add(Embedding(max_features, 32))\n",
        "model.add(LSTM(32))\n",
        "model.add(Dense(1, activation='sigmoid'))\n",
        "model.compile(optimizer='rmsprop',\n",
        "loss='binary_crossentropy',\n",
        "metrics=['acc'])\n",
        "history = model.fit(input_train, y_train,\n",
        "                    epochs=10,\n",
        "                    batch_size=128,\n",
        "                    validation_split=0.2)"
      ],
      "execution_count": null,
      "outputs": [
        {
          "output_type": "stream",
          "text": [
            "Epoch 1/10\n",
            "157/157 [==============================] - 44s 98ms/step - loss: 0.5922 - acc: 0.6752 - val_loss: 0.3760 - val_acc: 0.8484\n",
            "Epoch 2/10\n",
            "157/157 [==============================] - 15s 96ms/step - loss: 0.3010 - acc: 0.8827 - val_loss: 0.3061 - val_acc: 0.8808\n",
            "Epoch 3/10\n",
            "157/157 [==============================] - 15s 94ms/step - loss: 0.2194 - acc: 0.9185 - val_loss: 0.3046 - val_acc: 0.8698\n",
            "Epoch 4/10\n",
            "157/157 [==============================] - 15s 94ms/step - loss: 0.1928 - acc: 0.9287 - val_loss: 0.2852 - val_acc: 0.8912\n",
            "Epoch 5/10\n",
            "157/157 [==============================] - 15s 95ms/step - loss: 0.1625 - acc: 0.9415 - val_loss: 0.3747 - val_acc: 0.8696\n",
            "Epoch 6/10\n",
            "157/157 [==============================] - 15s 94ms/step - loss: 0.1496 - acc: 0.9489 - val_loss: 0.2996 - val_acc: 0.8772\n",
            "Epoch 7/10\n",
            "157/157 [==============================] - 15s 94ms/step - loss: 0.1296 - acc: 0.9571 - val_loss: 0.3197 - val_acc: 0.8810\n",
            "Epoch 8/10\n",
            "157/157 [==============================] - 15s 95ms/step - loss: 0.1246 - acc: 0.9577 - val_loss: 0.4015 - val_acc: 0.8770\n",
            "Epoch 9/10\n",
            "157/157 [==============================] - 15s 95ms/step - loss: 0.1127 - acc: 0.9602 - val_loss: 0.3597 - val_acc: 0.8836\n",
            "Epoch 10/10\n",
            "157/157 [==============================] - 15s 94ms/step - loss: 0.0968 - acc: 0.9667 - val_loss: 0.3711 - val_acc: 0.8816\n"
          ],
          "name": "stdout"
        }
      ]
    },
    {
      "cell_type": "code",
      "metadata": {
        "id": "HU4eGq-DqjhX",
        "colab": {
          "base_uri": "https://localhost:8080/",
          "height": 545
        },
        "outputId": "8a4f048a-feaf-49ab-ef47-0c48dbaa9e68"
      },
      "source": [
        "import matplotlib.pyplot as plt\n",
        "\n",
        "acc = history.history['acc']\n",
        "val_acc = history.history['val_acc']\n",
        "loss = history.history['loss']\n",
        "val_loss = history.history['val_loss']\n",
        "\n",
        "epochs = range(1, len(acc) + 1)\n",
        "\n",
        "plt.plot(epochs, acc, 'bo', label='Training acc')\n",
        "plt.plot(epochs, val_acc, 'b', label='Validation acc')\n",
        "plt.title('Training and validation accuracy')\n",
        "plt.legend()\n",
        "\n",
        "plt.figure()\n",
        "\n",
        "plt.plot(epochs, loss, 'bo', label='Training loss')\n",
        "plt.plot(epochs, val_loss, 'b', label='Validation loss')\n",
        "plt.title('Training and validation loss')\n",
        "plt.legend()\n",
        "\n",
        "plt.show()"
      ],
      "execution_count": null,
      "outputs": [
        {
          "output_type": "display_data",
          "data": {
            "image/png": "[encoded data removed]",
            "text/plain": [
              "<Figure size 432x288 with 1 Axes>"
            ]
          },
          "metadata": {
            "tags": [],
            "needs_background": "light"
          }
        },
        {
          "output_type": "display_data",
          "data": {
            "image/png": "[encoded data removed]",
            "text/plain": [
              "<Figure size 432x288 with 1 Axes>"
            ]
          },
          "metadata": {
            "tags": [],
            "needs_background": "light"
          }
        }
      ]
    },
    {
      "cell_type": "markdown",
      "metadata": {
        "id": "r69U5tFUZ82R"
      },
      "source": [
        "### Task 3: \n",
        "\n",
        "Please consider this Time Series Prediction with LSTM Recurrent Neural Networks. We can see that the LSTM model in the code below has an average error of about 23 passengers (in thousands) on the training dataset, and about 53 passengers (in thousands) on the test dataset. Not that bad. Can you please improve the performance?\n",
        "\n",
        "#### Dataset Discription\n",
        "The problem we are going to look at in this post is the International Airline Passengers prediction problem.\n",
        "This is a problem where, given a year and a month, the task is to predict the number of international airline passengers in units of 1,000. The data ranges from January 1949 to December 1960, or 12 years, with 144 observations.\n",
        "\n"
      ]
    },
    {
      "cell_type": "code",
      "metadata": {
        "id": "w1vSusoyatCW"
      },
      "source": [
        "import numpy\n",
        "import math\n",
        "import matplotlib.pyplot as plt\n",
        "from pandas import read_csv\n",
        "from keras.models import Sequential\n",
        "from keras.layers import Dense\n",
        "from keras.layers import LSTM\n",
        "from sklearn.preprocessing import MinMaxScaler\n",
        "from sklearn.metrics import mean_squared_error\n",
        "# convert an array of values into a dataset matrix\n",
        "def create_dataset(dataset, look_back=1):\n",
        "\tdataX, dataY = [], []\n",
        "\tfor i in range(len(dataset)-look_back-1):\n",
        "\t\ta = dataset[i:(i+look_back), 0]\n",
        "\t\tdataX.append(a)\n",
        "\t\tdataY.append(dataset[i + look_back, 0])\n",
        "\treturn numpy.array(dataX), numpy.array(dataY)\n"
      ],
      "execution_count": null,
      "outputs": []
    },
    {
      "cell_type": "code",
      "metadata": {
        "id": "V-8QMjGwS5Gh"
      },
      "source": [
        "# fix random seed for reproducibility\n",
        "numpy.random.seed(7)\n",
        "# load the dataset\n",
        "df_data = read_csv('https://raw.githubusercontent.com/jbrownlee/Datasets/master/airline-passengers.csv', usecols=[1], engine='python')\n",
        "dataset = df_data.values\n",
        "dataset = dataset.astype('float32')\n",
        "# normalize the dataset\n",
        "scaler = MinMaxScaler(feature_range=(0, 1))\n",
        "datasets = scaler.fit_transform(dataset)\n",
        "# split into train and test sets\n",
        "train_size = int(len(datasets) * 0.67)\n",
        "test_size = len(datasets) - train_size\n",
        "train, test = datasets[0:train_size,:], datasets[train_size:len(dataset),:]\n",
        "# reshape into X=t and Y=t+1\n",
        "look_back = 1\n",
        "trainX, trainY = create_dataset(train, look_back)\n",
        "testX, testY = create_dataset(test, look_back)\n"
      ],
      "execution_count": null,
      "outputs": []
    },
    {
      "cell_type": "markdown",
      "metadata": {
        "id": "ZSz24HhlbUPF"
      },
      "source": [
        ""
      ]
    },
    {
      "cell_type": "code",
      "metadata": {
        "id": "MlOGy4UbkkuO"
      },
      "source": [
        "#task code\n",
        "import numpy\n",
        "import math\n",
        "import matplotlib.pyplot as plt\n",
        "from pandas import read_csv\n",
        "from keras.models import Sequential\n",
        "from keras.layers import Dense\n",
        "from keras.layers import LSTM\n",
        "from keras import layers\n",
        "from sklearn.preprocessing import MinMaxScaler\n",
        "from sklearn.metrics import mean_squared_error\n",
        "# convert an array of values into a dataset matrix\n",
        "def create_dataset(dataset, look_back=1):\n",
        "\tdataX, dataY = [], []\n",
        "\tfor i in range(len(dataset)-look_back-1):\n",
        "\t\ta = dataset[i:(i+look_back), 0]\n",
        "\t\tdataX.append(a)\n",
        "\t\tdataY.append(dataset[i + look_back, 0])\n",
        "\treturn numpy.array(dataX), numpy.array(dataY)\n",
        "# fix random seed for reproducibility\n",
        "numpy.random.seed(7)\n",
        "# load the dataset\n",
        "df_data = read_csv('https://raw.githubusercontent.com/jbrownlee/Datasets/master/airline-passengers.csv', usecols=[1], engine='python')\n",
        "dataset = df_data.values\n",
        "dataset = dataset.astype('float32')\n",
        "# normalize the dataset\n",
        "scaler = MinMaxScaler(feature_range=(0, 1))\n",
        "dataset = scaler.fit_transform(dataset)\n",
        "# split into train and test sets\n",
        "train_size = int(len(dataset) * 0.67)\n",
        "test_size = len(dataset) - train_size\n",
        "train, test = dataset[0:train_size,:], dataset[train_size:len(dataset),:]\n",
        "# reshape into X=t and Y=t+1\n",
        "look_back = 1\n",
        "trainX, trainY = create_dataset(train, look_back)\n",
        "testX, testY = create_dataset(test, look_back)\n"
      ],
      "execution_count": null,
      "outputs": []
    },
    {
      "cell_type": "code",
      "metadata": {
        "colab": {
          "base_uri": "https://localhost:8080/"
        },
        "id": "0PEAtGc5fRMa",
        "outputId": "fc18e250-1daa-4c6d-8a3c-6cb82af8cec9"
      },
      "source": [
        "# reshape input to be [samples, time steps, features]\n",
        "trainX = numpy.reshape(trainX, (trainX.shape[0], 1, trainX.shape[1]))\n",
        "testX = numpy.reshape(testX, (testX.shape[0], 1, testX.shape[1]))\n",
        "# create and fit the LSTM network\n",
        "model = Sequential()\n",
        "model.add(LSTM(4, input_shape=(1, look_back)))\n",
        "model.add(Dense(1))\n",
        "model.compile(loss='mean_squared_error', optimizer='adam')\n",
        "model.fit(trainX, trainY, epochs=50, batch_size=1, verbose=2)\n",
        "# make predictions\n",
        "trainPredict = model.predict(trainX)\n",
        "testPredict = model.predict(testX)\n"
      ],
      "execution_count": null,
      "outputs": [
        {
          "output_type": "stream",
          "text": [
            "Epoch 1/50\n",
            "94/94 - 2s - loss: 0.0388\n",
            "Epoch 2/50\n",
            "94/94 - 0s - loss: 0.0181\n",
            "Epoch 3/50\n",
            "94/94 - 0s - loss: 0.0135\n",
            "Epoch 4/50\n",
            "94/94 - 0s - loss: 0.0125\n",
            "Epoch 5/50\n",
            "94/94 - 0s - loss: 0.0115\n",
            "Epoch 6/50\n",
            "94/94 - 0s - loss: 0.0105\n",
            "Epoch 7/50\n",
            "94/94 - 0s - loss: 0.0097\n",
            "Epoch 8/50\n",
            "94/94 - 0s - loss: 0.0088\n",
            "Epoch 9/50\n",
            "94/94 - 0s - loss: 0.0079\n",
            "Epoch 10/50\n",
            "94/94 - 0s - loss: 0.0069\n",
            "Epoch 11/50\n",
            "94/94 - 0s - loss: 0.0062\n",
            "Epoch 12/50\n",
            "94/94 - 0s - loss: 0.0055\n",
            "Epoch 13/50\n",
            "94/94 - 0s - loss: 0.0048\n",
            "Epoch 14/50\n",
            "94/94 - 0s - loss: 0.0042\n",
            "Epoch 15/50\n",
            "94/94 - 0s - loss: 0.0037\n",
            "Epoch 16/50\n",
            "94/94 - 0s - loss: 0.0033\n",
            "Epoch 17/50\n",
            "94/94 - 0s - loss: 0.0029\n",
            "Epoch 18/50\n",
            "94/94 - 0s - loss: 0.0026\n",
            "Epoch 19/50\n",
            "94/94 - 0s - loss: 0.0025\n",
            "Epoch 20/50\n",
            "94/94 - 0s - loss: 0.0023\n",
            "Epoch 21/50\n",
            "94/94 - 0s - loss: 0.0022\n",
            "Epoch 22/50\n",
            "94/94 - 0s - loss: 0.0022\n",
            "Epoch 23/50\n",
            "94/94 - 0s - loss: 0.0021\n",
            "Epoch 24/50\n",
            "94/94 - 0s - loss: 0.0021\n",
            "Epoch 25/50\n",
            "94/94 - 0s - loss: 0.0021\n",
            "Epoch 26/50\n",
            "94/94 - 0s - loss: 0.0020\n",
            "Epoch 27/50\n",
            "94/94 - 0s - loss: 0.0021\n",
            "Epoch 28/50\n",
            "94/94 - 0s - loss: 0.0020\n",
            "Epoch 29/50\n",
            "94/94 - 0s - loss: 0.0020\n",
            "Epoch 30/50\n",
            "94/94 - 0s - loss: 0.0021\n",
            "Epoch 31/50\n",
            "94/94 - 0s - loss: 0.0020\n",
            "Epoch 32/50\n",
            "94/94 - 0s - loss: 0.0021\n",
            "Epoch 33/50\n",
            "94/94 - 0s - loss: 0.0021\n",
            "Epoch 34/50\n",
            "94/94 - 0s - loss: 0.0020\n",
            "Epoch 35/50\n",
            "94/94 - 0s - loss: 0.0021\n",
            "Epoch 36/50\n",
            "94/94 - 0s - loss: 0.0021\n",
            "Epoch 37/50\n",
            "94/94 - 0s - loss: 0.0020\n",
            "Epoch 38/50\n",
            "94/94 - 0s - loss: 0.0020\n",
            "Epoch 39/50\n",
            "94/94 - 0s - loss: 0.0020\n",
            "Epoch 40/50\n",
            "94/94 - 0s - loss: 0.0021\n",
            "Epoch 41/50\n",
            "94/94 - 0s - loss: 0.0021\n",
            "Epoch 42/50\n",
            "94/94 - 0s - loss: 0.0020\n",
            "Epoch 43/50\n",
            "94/94 - 0s - loss: 0.0020\n",
            "Epoch 44/50\n",
            "94/94 - 0s - loss: 0.0020\n",
            "Epoch 45/50\n",
            "94/94 - 0s - loss: 0.0021\n",
            "Epoch 46/50\n",
            "94/94 - 0s - loss: 0.0021\n",
            "Epoch 47/50\n",
            "94/94 - 0s - loss: 0.0021\n",
            "Epoch 48/50\n",
            "94/94 - 0s - loss: 0.0021\n",
            "Epoch 49/50\n",
            "94/94 - 0s - loss: 0.0020\n",
            "Epoch 50/50\n",
            "94/94 - 0s - loss: 0.0021\n"
          ],
          "name": "stdout"
        }
      ]
    },
    {
      "cell_type": "code",
      "metadata": {
        "id": "yZ_zIOCryQUI"
      },
      "source": [
        "# invert predictions\n",
        "trainPredict = scaler.inverse_transform(trainPredict)\n",
        "trainY = scaler.inverse_transform([trainY])\n",
        "testPredict = scaler.inverse_transform(testPredict)\n",
        "testY = scaler.inverse_transform([testY])"
      ],
      "execution_count": null,
      "outputs": []
    },
    {
      "cell_type": "code",
      "metadata": {
        "colab": {
          "base_uri": "https://localhost:8080/"
        },
        "id": "cuDfQRXvfQJ1",
        "outputId": "7e314a16-50d0-40c0-9cc1-ca8b7a25adb5"
      },
      "source": [
        "\n",
        "# calculate root mean squared error\n",
        "trainScore = math.sqrt(mean_squared_error(trainY[0], trainPredict[:,0]))\n",
        "print('Train Score: %.2f RMSE' % (trainScore))\n",
        "testScore = math.sqrt(mean_squared_error(testY[0], testPredict[:,0]))\n",
        "print('Test Score: %.2f RMSE' % (testScore))\n",
        "# shift train predictions for plotting\n",
        "trainPredictPlot = numpy.empty_like(dataset)\n",
        "trainPredictPlot[:, :] = numpy.nan\n",
        "trainPredictPlot[look_back:len(trainPredict)+look_back, :] = trainPredict\n",
        "# shift test predictions for plotting\n",
        "testPredictPlot = numpy.empty_like(dataset)\n",
        "testPredictPlot[:, :] = numpy.nan\n",
        "testPredictPlot[len(trainPredict)+(look_back*2)+1:len(dataset)-1, :] = testPredict\n"
      ],
      "execution_count": null,
      "outputs": [
        {
          "output_type": "stream",
          "text": [
            "Train Score: 22.98 RMSE\n",
            "Test Score: 48.07 RMSE\n"
          ],
          "name": "stdout"
        }
      ]
    },
    {
      "cell_type": "code",
      "metadata": {
        "id": "fSgwNT0ffWGa",
        "colab": {
          "base_uri": "https://localhost:8080/",
          "height": 265
        },
        "outputId": "ca97e0a3-afd9-4525-e964-cbf428539e72"
      },
      "source": [
        "# plot baseline and predictions\n",
        "plt.plot(scaler.inverse_transform(dataset))\n",
        "plt.plot(trainPredictPlot)\n",
        "plt.plot(testPredictPlot)\n",
        "plt.show()"
      ],
      "execution_count": null,
      "outputs": [
        {
          "output_type": "display_data",
          "data": {
            "image/png": "[encoded data removed]",
            "text/plain": [
              "<Figure size 432x288 with 1 Axes>"
            ]
          },
          "metadata": {
            "tags": [],
            "needs_background": "light"
          }
        }
      ]
    },
    {
      "cell_type": "code",
      "metadata": {
        "id": "Ld_rVir_TLmx"
      },
      "source": [
        ""
      ],
      "execution_count": null,
      "outputs": []
    }
  ]
}