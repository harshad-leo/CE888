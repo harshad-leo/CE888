{
  "nbformat": 4,
  "nbformat_minor": 0,
  "metadata": {
    "accelerator": "GPU",
    "colab": {
      "name": "Lab_8.ipynb",
      "provenance": [],
      "collapsed_sections": [],
      "machine_shape": "hm",
      "include_colab_link": true
    },
    "kernelspec": {
      "display_name": "Python 3",
      "name": "python3"
    },
    "language_info": {
      "name": "python"
    }
  },
  "cells": [
    {
      "cell_type": "markdown",
      "metadata": {
        "id": "view-in-github",
        "colab_type": "text"
      },
      "source": [
        "<a href=\"https://colab.research.google.com/github/harshad-leo/CE888/blob/main/Lab8/Lab_8.ipynb\" target=\"_parent\"><img src=\"https://colab.research.google.com/assets/colab-badge.svg\" alt=\"Open In Colab\"/></a>"
      ]
    },
    {
      "cell_type": "code",
      "metadata": {
        "colab": {
          "base_uri": "https://localhost:8080/"
        },
        "id": "rG13ievuKq6l",
        "outputId": "54a8f8e2-2f7b-46c3-8f1d-b2ab77988eaf"
      },
      "source": [
        "# Unzip training data\n",
        "from zipfile import ZipFile\n",
        "file_name = \"/content/sample_data/data.zip\"\n",
        "with ZipFile(file_name, 'r') as zip:\n",
        "  zip.extractall()\n",
        "  print('done')"
      ],
      "execution_count": null,
      "outputs": [
        {
          "output_type": "stream",
          "text": [
            "done\n"
          ],
          "name": "stdout"
        }
      ]
    },
    {
      "cell_type": "code",
      "metadata": {
        "colab": {
          "base_uri": "https://localhost:8080/"
        },
        "id": "Hi_IyjN7Vlii",
        "outputId": "108f8107-cdc5-442c-c682-a9c96d54c3e7"
      },
      "source": [
        "from google.colab import drive\n",
        "drive.mount('/content/drive')"
      ],
      "execution_count": null,
      "outputs": [
        {
          "output_type": "stream",
          "text": [
            "Mounted at /content/drive\n"
          ],
          "name": "stdout"
        }
      ]
    },
    {
      "cell_type": "code",
      "metadata": {
        "colab": {
          "base_uri": "https://localhost:8080/"
        },
        "id": "T5jO9fXaXhky",
        "outputId": "25a1f03a-e5cf-41f9-8c1e-7f98cdb818db"
      },
      "source": [
        "import os\n",
        "# Get all the paths\n",
        "#data_dir_list = os.listdir('/content/data/horses')\n",
        "#print(data_dir_list)\n",
        "path, dirs, files = next(os.walk(\"/content/data/cats\"))\n",
        "file_count = len(files)\n",
        "print(\"No of files in cats\",file_count)\n",
        "path, dirs, files = next(os.walk(\"/content/data/dogs\"))\n",
        "file_count = len(files)\n",
        "print(\"No of files in dogs\",file_count)\n",
        "path, dirs, files = next(os.walk(\"/content/data/horses\"))\n",
        "file_count = len(files)\n",
        "print(\"No of files in horses\",file_count)\n",
        "path, dirs, files = next(os.walk(\"/content/data/Humans\"))\n",
        "file_count = len(files)\n",
        "print(\"No of files in Humans\",file_count)"
      ],
      "execution_count": null,
      "outputs": [
        {
          "output_type": "stream",
          "text": [
            "No of files in cats 202\n",
            "No of files in dogs 202\n",
            "No of files in horses 202\n",
            "No of files in Humans 202\n"
          ],
          "name": "stdout"
        }
      ]
    },
    {
      "cell_type": "code",
      "metadata": {
        "id": "71SdqWo9nKLl"
      },
      "source": [
        "# Make new base directory\n",
        "original_dataset_dir_cats = \"/content/data/cats\"\n",
        "original_dataset_dir_dogs = \"/content/data/dogs\"\n",
        "original_dataset_dir_horses = \"/content/data/horses\"\n",
        "original_dataset_dir_humans = \"/content/data/Humans\"\n",
        "base_dir = \"/content/cats_dogs_horses_human\"\n",
        "os.mkdir(base_dir)"
      ],
      "execution_count": null,
      "outputs": []
    },
    {
      "cell_type": "code",
      "metadata": {
        "id": "P-3PHMEcn7_I"
      },
      "source": [
        "train_dir = os.path.join(base_dir, 'train')\n",
        "os.mkdir(train_dir)\n",
        "\n",
        "validation_dir = os.path.join(base_dir, 'validation')\n",
        "os.mkdir(validation_dir)\n",
        "\n",
        "test_dir = os.path.join(base_dir, 'test')\n",
        "os.mkdir(test_dir)"
      ],
      "execution_count": null,
      "outputs": []
    },
    {
      "cell_type": "code",
      "metadata": {
        "id": "gvJA06FWoFmE"
      },
      "source": [
        "import shutil\n",
        "fnames = ['cat.{}.jpg'.format(i) for i in range(1,141)]\n",
        "for fname in fnames:\n",
        "    src = os.path.join(original_dataset_dir_cats, fname)\n",
        "    dst = os.path.join(train_dir, fname)\n",
        "    #print(src,dst)\n",
        "    shutil.copyfile(src, dst)\n",
        "    \n",
        "fnames = ['cat.{}.jpg'.format(i) for i in range(141, 172)]\n",
        "for fname in fnames:\n",
        "    src = os.path.join(original_dataset_dir_cats, fname)\n",
        "    dst = os.path.join(validation_dir, fname)\n",
        "    shutil.copyfile(src, dst)\n",
        "\n",
        "fnames = ['cat.{}.jpg'.format(i) for i in range(172, 202)]\n",
        "for fname in fnames:\n",
        "    src = os.path.join(original_dataset_dir_cats, fname)\n",
        "    dst = os.path.join(test_dir, fname)\n",
        "    shutil.copyfile(src, dst)\n",
        "    \n",
        "fnames = ['dog.{}.jpg'.format(i) for i in range(1,141)]\n",
        "for fname in fnames:\n",
        "    src = os.path.join(original_dataset_dir_dogs, fname)\n",
        "    dst = os.path.join(train_dir, fname)\n",
        "    shutil.copyfile(src, dst)\n",
        "\n",
        "fnames = ['dog.{}.jpg'.format(i) for i in range(141, 172)]\n",
        "for fname in fnames:\n",
        "    src = os.path.join(original_dataset_dir_dogs, fname)\n",
        "    dst = os.path.join(validation_dir, fname)\n",
        "    shutil.copyfile(src, dst)\n",
        "\n",
        "fnames = ['dog.{}.jpg'.format(i) for i in range(172, 202)]\n",
        "for fname in fnames:\n",
        "    src = os.path.join(original_dataset_dir_dogs, fname)\n",
        "    dst = os.path.join(test_dir, fname)\n",
        "    shutil.copyfile(src, dst)\n",
        "\n",
        "import shutil\n",
        "fnames = ['horse-{}.jpg'.format(i) for i in range(1,141)]\n",
        "for fname in fnames:\n",
        "    src = os.path.join(original_dataset_dir_horses, fname)\n",
        "    dst = os.path.join(train_dir, fname)\n",
        "    #print(src,dst)\n",
        "    shutil.copyfile(src, dst)\n",
        "    \n",
        "fnames = ['horse-{}.jpg'.format(i) for i in range(141, 172)]\n",
        "for fname in fnames:\n",
        "    src = os.path.join(original_dataset_dir_horses, fname)\n",
        "    dst = os.path.join(validation_dir, fname)\n",
        "    shutil.copyfile(src, dst)\n",
        "\n",
        "fnames = ['horse-{}.jpg'.format(i) for i in range(172, 202)]\n",
        "for fname in fnames:\n",
        "    src = os.path.join(original_dataset_dir_horses, fname)\n",
        "    dst = os.path.join(test_dir, fname)\n",
        "    shutil.copyfile(src, dst)\n",
        "    \n",
        "fnames = ['rider-{}.jpg'.format(i) for i in range(1,141)]\n",
        "for fname in fnames:\n",
        "    src = os.path.join(original_dataset_dir_humans, fname)\n",
        "    dst = os.path.join(train_dir, fname)\n",
        "    shutil.copyfile(src, dst)\n",
        "\n",
        "fnames = ['rider-{}.jpg'.format(i) for i in range(141, 172)]\n",
        "for fname in fnames:\n",
        "    src = os.path.join(original_dataset_dir_humans, fname)\n",
        "    dst = os.path.join(validation_dir, fname)\n",
        "    shutil.copyfile(src, dst)\n",
        "\n",
        "fnames = ['rider-{}.jpg'.format(i) for i in range(172, 202)]\n",
        "for fname in fnames:\n",
        "    src = os.path.join(original_dataset_dir_humans, fname)\n",
        "    dst = os.path.join(test_dir, fname)\n",
        "    shutil.copyfile(src, dst)"
      ],
      "execution_count": null,
      "outputs": []
    },
    {
      "cell_type": "code",
      "metadata": {
        "colab": {
          "base_uri": "https://localhost:8080/"
        },
        "id": "Y1zEvxkdqcvg",
        "outputId": "31397dd1-9978-4642-bf73-532213e3bbf5"
      },
      "source": [
        "path, dirs, files = next(os.walk(\"/content/cats_dogs_horses_human/train\"))\n",
        "file_count = len(files)\n",
        "print(\"No of train files \",file_count)\n",
        "\n",
        "path, dirs, files = next(os.walk(\"/content/cats_dogs_horses_human/validation\"))\n",
        "file_count = len(files)\n",
        "print(\"No of validation files \",file_count)\n",
        "\n",
        "path, dirs, files = next(os.walk(\"/content/cats_dogs_horses_human/test\"))\n",
        "file_count = len(files)\n",
        "print(\"No of test files \",file_count)"
      ],
      "execution_count": null,
      "outputs": [
        {
          "output_type": "stream",
          "text": [
            "No of train files  560\n",
            "No of validation files  124\n",
            "No of test files  120\n"
          ],
          "name": "stdout"
        }
      ]
    },
    {
      "cell_type": "code",
      "metadata": {
        "id": "cvS7Y_X_sXrm"
      },
      "source": [
        "import cv2\n",
        "import numpy as np\n",
        "from random import shuffle\n",
        "\n",
        "IMG_SIZE = 224\n",
        "LR = 1e-4"
      ],
      "execution_count": null,
      "outputs": []
    },
    {
      "cell_type": "code",
      "metadata": {
        "id": "b4vQ6LvIwzcp"
      },
      "source": [
        "#def label_img(img):\n",
        "#  word_label = img.split('-')[0]\n",
        "#  if word_label == 'dog': return 1\n",
        "#  elif word_label == 'cat': return 0\n",
        "#  if word_label == 'horse': return 2\n",
        "#  elif word_label == 'rider': return 3"
      ],
      "execution_count": null,
      "outputs": []
    },
    {
      "cell_type": "code",
      "metadata": {
        "id": "nmUxj3o9sZB_"
      },
      "source": [
        "def label_img(img):\n",
        "  #print(img)\n",
        "  if img.find('-')!=-1:\n",
        "      #print(img)\n",
        "      word_label = img.split('-')[0]\n",
        "      if word_label == 'horse': return 2\n",
        "      elif word_label == 'rider': return 3\n",
        "      \n",
        "  else :\n",
        "      word_label = img.split('.')[0]\n",
        "      if word_label == 'dog': return 1\n",
        "      elif word_label == 'cat': return 0"
      ],
      "execution_count": null,
      "outputs": []
    },
    {
      "cell_type": "code",
      "metadata": {
        "id": "oW7GSfjksZLy"
      },
      "source": [
        "def createDataSplitSet(datapath):\n",
        "    X=[]\n",
        "    y=[]\n",
        "\n",
        "    for img in os.listdir(datapath):\n",
        "        label = label_img(img)\n",
        "       \n",
        "        # print(label)\n",
        "        path = os.path.join(datapath, img)\n",
        "        image = cv2.resize(cv2.imread(path), (IMG_SIZE, IMG_SIZE))\n",
        "        image = cv2.normalize(image, None, alpha=0, beta=1, norm_type=cv2.NORM_MINMAX, dtype=cv2.CV_32F)\n",
        "\n",
        "        X.append(np.array(image))\n",
        "        y.append(label)\n",
        "\n",
        "    return np.array(X), np.array(y)"
      ],
      "execution_count": null,
      "outputs": []
    },
    {
      "cell_type": "code",
      "metadata": {
        "id": "95FX4K-Cts_e"
      },
      "source": [
        "train_X, train_y = createDataSplitSet(train_dir)\n",
        "val_X, val_y = createDataSplitSet(validation_dir)\n",
        "test_X, test_y = createDataSplitSet(test_dir)"
      ],
      "execution_count": null,
      "outputs": []
    },
    {
      "cell_type": "code",
      "metadata": {
        "id": "GMZ5hcKb_zdx"
      },
      "source": [
        "# Our vectorized labels\n",
        "#train_y = train_y.reshape((-1,1))\n",
        "#val_y=val_y.reshape((-1,1))\n",
        "#y_test = np.asarray(test_labels).astype('float32').reshape((-1,1))"
      ],
      "execution_count": null,
      "outputs": []
    },
    {
      "cell_type": "code",
      "metadata": {
        "id": "iFAsLqnK_JWV"
      },
      "source": [
        "## VGG 16\n",
        "from tensorflow.keras.applications import VGG19\n",
        "from tensorflow.keras.applications import VGG16\n",
        "from tensorflow.keras.layers import Dense, Input, Flatten,Dropout\n",
        "from tensorflow.keras import Model\n",
        "from keras.layers.normalization import BatchNormalization\n",
        "img_input = Input(shape=(IMG_SIZE, IMG_SIZE, 3))"
      ],
      "execution_count": null,
      "outputs": []
    },
    {
      "cell_type": "code",
      "metadata": {
        "id": "75YccWP8oNOc"
      },
      "source": [
        "img_input = Input(shape=(IMG_SIZE, IMG_SIZE, 3))"
      ],
      "execution_count": null,
      "outputs": []
    },
    {
      "cell_type": "code",
      "metadata": {
        "colab": {
          "base_uri": "https://localhost:8080/"
        },
        "id": "K9N4GSsY3sRX",
        "outputId": "260a90bf-4541-42b2-b75d-625e1816091c"
      },
      "source": [
        "model = VGG16(\n",
        "    include_top=True,\n",
        "    weights=\"imagenet\",\n",
        "    input_tensor=img_input,\n",
        "    input_shape=None,\n",
        "    pooling=None,\n",
        "    classes=1000,\n",
        "    classifier_activation=\"softmax\")\n",
        "model.summary()"
      ],
      "execution_count": null,
      "outputs": [
        {
          "output_type": "stream",
          "text": [
            "Model: \"vgg16\"\n",
            "_________________________________________________________________\n",
            "Layer (type)                 Output Shape              Param #   \n",
            "=================================================================\n",
            "input_3 (InputLayer)         [(None, 224, 224, 3)]     0         \n",
            "_________________________________________________________________\n",
            "block1_conv1 (Conv2D)        (None, 224, 224, 64)      1792      \n",
            "_________________________________________________________________\n",
            "block1_conv2 (Conv2D)        (None, 224, 224, 64)      36928     \n",
            "_________________________________________________________________\n",
            "block1_pool (MaxPooling2D)   (None, 112, 112, 64)      0         \n",
            "_________________________________________________________________\n",
            "block2_conv1 (Conv2D)        (None, 112, 112, 128)     73856     \n",
            "_________________________________________________________________\n",
            "block2_conv2 (Conv2D)        (None, 112, 112, 128)     147584    \n",
            "_________________________________________________________________\n",
            "block2_pool (MaxPooling2D)   (None, 56, 56, 128)       0         \n",
            "_________________________________________________________________\n",
            "block3_conv1 (Conv2D)        (None, 56, 56, 256)       295168    \n",
            "_________________________________________________________________\n",
            "block3_conv2 (Conv2D)        (None, 56, 56, 256)       590080    \n",
            "_________________________________________________________________\n",
            "block3_conv3 (Conv2D)        (None, 56, 56, 256)       590080    \n",
            "_________________________________________________________________\n",
            "block3_pool (MaxPooling2D)   (None, 28, 28, 256)       0         \n",
            "_________________________________________________________________\n",
            "block4_conv1 (Conv2D)        (None, 28, 28, 512)       1180160   \n",
            "_________________________________________________________________\n",
            "block4_conv2 (Conv2D)        (None, 28, 28, 512)       2359808   \n",
            "_________________________________________________________________\n",
            "block4_conv3 (Conv2D)        (None, 28, 28, 512)       2359808   \n",
            "_________________________________________________________________\n",
            "block4_pool (MaxPooling2D)   (None, 14, 14, 512)       0         \n",
            "_________________________________________________________________\n",
            "block5_conv1 (Conv2D)        (None, 14, 14, 512)       2359808   \n",
            "_________________________________________________________________\n",
            "block5_conv2 (Conv2D)        (None, 14, 14, 512)       2359808   \n",
            "_________________________________________________________________\n",
            "block5_conv3 (Conv2D)        (None, 14, 14, 512)       2359808   \n",
            "_________________________________________________________________\n",
            "block5_pool (MaxPooling2D)   (None, 7, 7, 512)         0         \n",
            "_________________________________________________________________\n",
            "flatten (Flatten)            (None, 25088)             0         \n",
            "_________________________________________________________________\n",
            "fc1 (Dense)                  (None, 4096)              102764544 \n",
            "_________________________________________________________________\n",
            "fc2 (Dense)                  (None, 4096)              16781312  \n",
            "_________________________________________________________________\n",
            "predictions (Dense)          (None, 1000)              4097000   \n",
            "=================================================================\n",
            "Total params: 138,357,544\n",
            "Trainable params: 138,357,544\n",
            "Non-trainable params: 0\n",
            "_________________________________________________________________\n"
          ],
          "name": "stdout"
        }
      ]
    },
    {
      "cell_type": "code",
      "metadata": {
        "colab": {
          "base_uri": "https://localhost:8080/"
        },
        "id": "ADDqYc5d3sUu",
        "outputId": "5018ecca-c3c1-448a-bd0e-dae8efda8db1"
      },
      "source": [
        "last_layer = model.get_layer('fc2').output\n",
        "out = Dense(4, activation='sigmoid', name='output')(last_layer)  ## 2 classes\n",
        "model = Model(img_input, out)\n",
        "\n",
        "for layer in model.layers[:-1]:\n",
        "\tlayer.trainable = False\n",
        "\n",
        "model.summary()"
      ],
      "execution_count": null,
      "outputs": [
        {
          "output_type": "stream",
          "text": [
            "Model: \"model_3\"\n",
            "_________________________________________________________________\n",
            "Layer (type)                 Output Shape              Param #   \n",
            "=================================================================\n",
            "input_3 (InputLayer)         [(None, 224, 224, 3)]     0         \n",
            "_________________________________________________________________\n",
            "block1_conv1 (Conv2D)        (None, 224, 224, 64)      1792      \n",
            "_________________________________________________________________\n",
            "block1_conv2 (Conv2D)        (None, 224, 224, 64)      36928     \n",
            "_________________________________________________________________\n",
            "block1_pool (MaxPooling2D)   (None, 112, 112, 64)      0         \n",
            "_________________________________________________________________\n",
            "block2_conv1 (Conv2D)        (None, 112, 112, 128)     73856     \n",
            "_________________________________________________________________\n",
            "block2_conv2 (Conv2D)        (None, 112, 112, 128)     147584    \n",
            "_________________________________________________________________\n",
            "block2_pool (MaxPooling2D)   (None, 56, 56, 128)       0         \n",
            "_________________________________________________________________\n",
            "block3_conv1 (Conv2D)        (None, 56, 56, 256)       295168    \n",
            "_________________________________________________________________\n",
            "block3_conv2 (Conv2D)        (None, 56, 56, 256)       590080    \n",
            "_________________________________________________________________\n",
            "block3_conv3 (Conv2D)        (None, 56, 56, 256)       590080    \n",
            "_________________________________________________________________\n",
            "block3_pool (MaxPooling2D)   (None, 28, 28, 256)       0         \n",
            "_________________________________________________________________\n",
            "block4_conv1 (Conv2D)        (None, 28, 28, 512)       1180160   \n",
            "_________________________________________________________________\n",
            "block4_conv2 (Conv2D)        (None, 28, 28, 512)       2359808   \n",
            "_________________________________________________________________\n",
            "block4_conv3 (Conv2D)        (None, 28, 28, 512)       2359808   \n",
            "_________________________________________________________________\n",
            "block4_pool (MaxPooling2D)   (None, 14, 14, 512)       0         \n",
            "_________________________________________________________________\n",
            "block5_conv1 (Conv2D)        (None, 14, 14, 512)       2359808   \n",
            "_________________________________________________________________\n",
            "block5_conv2 (Conv2D)        (None, 14, 14, 512)       2359808   \n",
            "_________________________________________________________________\n",
            "block5_conv3 (Conv2D)        (None, 14, 14, 512)       2359808   \n",
            "_________________________________________________________________\n",
            "block5_pool (MaxPooling2D)   (None, 7, 7, 512)         0         \n",
            "_________________________________________________________________\n",
            "flatten (Flatten)            (None, 25088)             0         \n",
            "_________________________________________________________________\n",
            "fc1 (Dense)                  (None, 4096)              102764544 \n",
            "_________________________________________________________________\n",
            "fc2 (Dense)                  (None, 4096)              16781312  \n",
            "_________________________________________________________________\n",
            "output (Dense)               (None, 4)                 16388     \n",
            "=================================================================\n",
            "Total params: 134,276,932\n",
            "Trainable params: 16,388\n",
            "Non-trainable params: 134,260,544\n",
            "_________________________________________________________________\n"
          ],
          "name": "stdout"
        }
      ]
    },
    {
      "cell_type": "code",
      "metadata": {
        "id": "QecP9JT53sbl"
      },
      "source": [
        "model.compile(loss='sparse_categorical_crossentropy',\n",
        "              optimizer='adam',\n",
        "              metrics=['acc'])"
      ],
      "execution_count": null,
      "outputs": []
    },
    {
      "cell_type": "code",
      "metadata": {
        "id": "PyHyFaHr_UZZ"
      },
      "source": [
        "from tensorflow.keras.callbacks import EarlyStopping, ModelCheckpoint\n",
        "my_callbacks = [\n",
        "    EarlyStopping(monitor=\"val_loss\", patience=11, restore_best_weights=True),\n",
        "    ModelCheckpoint(filepath='vgg16_model.h5', save_best_only=True),\n",
        "]"
      ],
      "execution_count": null,
      "outputs": []
    },
    {
      "cell_type": "code",
      "metadata": {
        "colab": {
          "base_uri": "https://localhost:8080/"
        },
        "id": "DBuP8Bon_rLb",
        "outputId": "58d1f314-1a9a-4661-9231-8495861d8e22"
      },
      "source": [
        "history = model.fit(train_X, train_y,\n",
        "                               batch_size=10,\n",
        "                               epochs=10, \n",
        "                               validation_data=(val_X, val_y),\n",
        "                               callbacks=my_callbacks)"
      ],
      "execution_count": null,
      "outputs": [
        {
          "output_type": "stream",
          "text": [
            "Epoch 1/10\n",
            "56/56 [==============================] - 3s 40ms/step - loss: 1.3475 - acc: 0.4183 - val_loss: 0.6686 - val_acc: 0.7661\n",
            "Epoch 2/10\n",
            "56/56 [==============================] - 2s 36ms/step - loss: 0.5395 - acc: 0.8024 - val_loss: 0.6434 - val_acc: 0.7339\n",
            "Epoch 3/10\n",
            "56/56 [==============================] - 2s 37ms/step - loss: 0.4569 - acc: 0.8544 - val_loss: 0.3986 - val_acc: 0.8710\n",
            "Epoch 4/10\n",
            "56/56 [==============================] - 2s 36ms/step - loss: 0.3506 - acc: 0.8926 - val_loss: 0.3971 - val_acc: 0.8629\n",
            "Epoch 5/10\n",
            "56/56 [==============================] - 2s 36ms/step - loss: 0.3332 - acc: 0.8883 - val_loss: 0.5240 - val_acc: 0.7742\n",
            "Epoch 6/10\n",
            "56/56 [==============================] - 2s 36ms/step - loss: 0.3819 - acc: 0.8348 - val_loss: 0.4199 - val_acc: 0.8710\n",
            "Epoch 7/10\n",
            "56/56 [==============================] - 2s 36ms/step - loss: 0.2700 - acc: 0.8940 - val_loss: 0.2991 - val_acc: 0.9113\n",
            "Epoch 8/10\n",
            "56/56 [==============================] - 2s 36ms/step - loss: 0.2360 - acc: 0.9157 - val_loss: 0.3357 - val_acc: 0.8790\n",
            "Epoch 9/10\n",
            "56/56 [==============================] - 2s 36ms/step - loss: 0.2861 - acc: 0.8958 - val_loss: 0.2871 - val_acc: 0.9274\n",
            "Epoch 10/10\n",
            "56/56 [==============================] - 2s 36ms/step - loss: 0.2435 - acc: 0.9181 - val_loss: 0.3226 - val_acc: 0.9113\n"
          ],
          "name": "stdout"
        }
      ]
    },
    {
      "cell_type": "code",
      "metadata": {
        "id": "n2vtSYHjCwqD",
        "colab": {
          "base_uri": "https://localhost:8080/",
          "height": 545
        },
        "outputId": "12681684-56d3-4400-801c-1bfa80650687"
      },
      "source": [
        "import matplotlib.pyplot as plt\n",
        "\n",
        "acc = history.history['acc']\n",
        "val_acc = history.history['val_acc']\n",
        "loss = history.history['loss']\n",
        "val_loss = history.history['val_loss']\n",
        "\n",
        "epochs = range(1, len(acc) + 1)\n",
        "\n",
        "plt.plot(epochs, acc, 'bo', label='Training acc')\n",
        "plt.plot(epochs, val_acc, 'b', label='Validation acc')\n",
        "plt.title('Training and validation accuracy')\n",
        "plt.legend()\n",
        "\n",
        "plt.figure()\n",
        "\n",
        "plt.plot(epochs, loss, 'bo', label='Training loss')\n",
        "plt.plot(epochs, val_loss, 'b', label='Validation loss')\n",
        "plt.title('Training and validation loss')\n",
        "plt.legend()\n",
        "\n",
        "plt.show()"
      ],
      "execution_count": null,
      "outputs": [
        {
          "output_type": "display_data",
          "data": {
            "image/png": "[encoded data removed]",
            "text/plain": [
              "<Figure size 432x288 with 1 Axes>"
            ]
          },
          "metadata": {
            "tags": [],
            "needs_background": "light"
          }
        },
        {
          "output_type": "display_data",
          "data": {
            "image/png": "[encoded data removed]",
            "text/plain": [
              "<Figure size 432x288 with 1 Axes>"
            ]
          },
          "metadata": {
            "tags": [],
            "needs_background": "light"
          }
        }
      ]
    },
    {
      "cell_type": "code",
      "metadata": {
        "id": "8xA3EIMjCw0P",
        "colab": {
          "base_uri": "https://localhost:8080/"
        },
        "outputId": "70f515ab-6bc5-42a2-99e7-a80af7973489"
      },
      "source": [
        "from sklearn.metrics import accuracy_score\n",
        "\n",
        "## Test Accuracy\n",
        "predictions = model.predict(test_X)\n",
        "#ypred = predictions > 0.5\n",
        "ypred = np.argmax(predictions, axis=1)\n",
        "test_acc = accuracy_score(test_y, ypred)\n",
        "\n",
        "from sklearn.metrics import precision_recall_fscore_support, roc_auc_score\n",
        "\n",
        "precision, recall, f1score, _ = precision_recall_fscore_support(test_y, ypred, average='macro')\n",
        "\n",
        "#auc = roc_auc_score(test_y, ypred)\n",
        "\n",
        "print(\"Train Accuracy:\\t\", acc[-1])\n",
        "print(\"Val Accuracy:\\t\", val_acc[-1])\n",
        "print(\"Test Accuracy:\\t\", test_acc)\n",
        "print(\"Precision:\\t\", precision)\n",
        "print(\"Recall:\\t\\t\", recall)\n",
        "print(\"F1 Score:\\t\", f1score)\n",
        "#print(\"AUC:\\t\\t\", auc)"
      ],
      "execution_count": null,
      "outputs": [
        {
          "output_type": "stream",
          "text": [
            "Train Accuracy:\t 0.9214285612106323\n",
            "Val Accuracy:\t 0.9112903475761414\n",
            "Test Accuracy:\t 0.925\n",
            "Precision:\t 0.9296416788856305\n",
            "Recall:\t\t 0.925\n",
            "F1 Score:\t 0.9236966247807072\n"
          ],
          "name": "stdout"
        }
      ]
    }
  ]
}