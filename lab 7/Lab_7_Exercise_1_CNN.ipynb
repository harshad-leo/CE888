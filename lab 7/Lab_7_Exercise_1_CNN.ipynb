{
  "nbformat": 4,
  "nbformat_minor": 0,
  "metadata": {
    "kernelspec": {
      "display_name": "Python 3",
      "language": "python",
      "name": "python3"
    },
    "language_info": {
      "codemirror_mode": {
        "name": "ipython",
        "version": 3
      },
      "file_extension": ".py",
      "mimetype": "text/x-python",
      "name": "python",
      "nbconvert_exporter": "python",
      "pygments_lexer": "ipython3",
      "version": "3.6.5"
    },
    "colab": {
      "name": "Lab_7_Exercise_1_CNN.ipynb",
      "provenance": [],
      "include_colab_link": true
    },
    "accelerator": "GPU"
  },
  "cells": [
    {
      "cell_type": "markdown",
      "metadata": {
        "id": "view-in-github",
        "colab_type": "text"
      },
      "source": [
        "<a href=\"https://colab.research.google.com/github/harshad-leo/CE888/blob/main/lab%207/Lab_7_Exercise_1_CNN.ipynb\" target=\"_parent\"><img src=\"https://colab.research.google.com/assets/colab-badge.svg\" alt=\"Open In Colab\"/></a>"
      ]
    },
    {
      "cell_type": "markdown",
      "metadata": {
        "id": "vwRGEQbzGpYQ"
      },
      "source": [
        "# First CNN model for MNIST Dataset\n",
        "\n",
        "* MNIST Dataset is ''Hello World'' of Image Recognition\n",
        "\n",
        "* [Dataset HomePage](http://yann.lecun.com/exdb/mnist/)\n",
        "\n",
        "* History of MNIST Dataset [Watch here](https://www.youtube.com/watch?v=oKzNUGz21JM)\n",
        "\n",
        "\n",
        "---\n",
        "The MNIST database of handwritten digits, available from this page, has a training set of 60,000 examples, and a \n",
        "test set of 10,000 examples. It is a subset of a larger set available from NIST. The digits have been size-normalized and centered in a fixed-size image.\n",
        "\n",
        "![Kitten](https://camo.githubusercontent.com/01c057a753e92a9bc70b8c45d62b295431851c09cffadf53106fc0aea7e2843f/687474703a2f2f692e7974696d672e636f6d2f76692f3051493378675875422d512f687164656661756c742e6a7067)\n"
      ]
    },
    {
      "cell_type": "markdown",
      "metadata": {
        "id": "PhmJOHCpJD_w"
      },
      "source": [
        "# Let's start building our first CNN Model"
      ]
    },
    {
      "cell_type": "code",
      "metadata": {
        "id": "lSyHCSV7jymI"
      },
      "source": [
        "from keras import layers\n",
        "from keras import models"
      ],
      "execution_count": 2,
      "outputs": []
    },
    {
      "cell_type": "markdown",
      "metadata": {
        "id": "oWNzCYUUjymN"
      },
      "source": [
        "Importantly, a convnet takes as input tensors of shape (image_height, image_width,\n",
        "image_channels) (not including the batch dimension). In this case, we’ll configure\n",
        "the convnet to process inputs of size (28, 28, 1), which is the format of MNIST\n",
        "images. We’ll do this by passing the argument input_shape=(28, 28, 1) to the first\n",
        "layer."
      ]
    },
    {
      "cell_type": "markdown",
      "metadata": {
        "id": "dM4JLEpwjymN"
      },
      "source": [
        "#### Instantiating a small convnet"
      ]
    },
    {
      "cell_type": "code",
      "metadata": {
        "id": "p-OnpExGjymO",
        "colab": {
          "base_uri": "https://localhost:8080/"
        },
        "outputId": "0ba3f82e-1422-4d69-d338-1893ba7f708c"
      },
      "source": [
        "model = models.Sequential()\n",
        "model.add(layers.Conv2D(32, (3, 3), activation='relu', input_shape=(28, 28, 1)))\n",
        "model.add(layers.MaxPooling2D((2, 2)))\n",
        "model.add(layers.Conv2D(64, (3, 3), activation='relu'))\n",
        "model.add(layers.MaxPooling2D((2, 2)))\n",
        "model.add(layers.Conv2D(64, (3, 3), activation='relu'))\n",
        "model.summary()"
      ],
      "execution_count": 3,
      "outputs": [
        {
          "output_type": "stream",
          "text": [
            "Model: \"sequential\"\n",
            "_________________________________________________________________\n",
            "Layer (type)                 Output Shape              Param #   \n",
            "=================================================================\n",
            "conv2d (Conv2D)              (None, 26, 26, 32)        320       \n",
            "_________________________________________________________________\n",
            "max_pooling2d (MaxPooling2D) (None, 13, 13, 32)        0         \n",
            "_________________________________________________________________\n",
            "conv2d_1 (Conv2D)            (None, 11, 11, 64)        18496     \n",
            "_________________________________________________________________\n",
            "max_pooling2d_1 (MaxPooling2 (None, 5, 5, 64)          0         \n",
            "_________________________________________________________________\n",
            "conv2d_2 (Conv2D)            (None, 3, 3, 64)          36928     \n",
            "=================================================================\n",
            "Total params: 55,744\n",
            "Trainable params: 55,744\n",
            "Non-trainable params: 0\n",
            "_________________________________________________________________\n"
          ],
          "name": "stdout"
        }
      ]
    },
    {
      "cell_type": "markdown",
      "metadata": {
        "id": "7gcVG3xkjymR"
      },
      "source": [
        "#### Adding a classifier on top of the convnet"
      ]
    },
    {
      "cell_type": "code",
      "metadata": {
        "id": "C2DfhDJYjymR",
        "colab": {
          "base_uri": "https://localhost:8080/"
        },
        "outputId": "ab5fad7f-08db-43eb-bb89-21af6e1e7de7"
      },
      "source": [
        "model.add(layers.Flatten())\n",
        "model.add(layers.Dense(64, activation='relu'))\n",
        "model.add(layers.Dense(10, activation='softmax'))\n",
        "model.summary()"
      ],
      "execution_count": null,
      "outputs": [
        {
          "output_type": "stream",
          "text": [
            "Model: \"sequential\"\n",
            "_________________________________________________________________\n",
            "Layer (type)                 Output Shape              Param #   \n",
            "=================================================================\n",
            "conv2d (Conv2D)              (None, 26, 26, 32)        320       \n",
            "_________________________________________________________________\n",
            "max_pooling2d (MaxPooling2D) (None, 13, 13, 32)        0         \n",
            "_________________________________________________________________\n",
            "conv2d_1 (Conv2D)            (None, 11, 11, 64)        18496     \n",
            "_________________________________________________________________\n",
            "max_pooling2d_1 (MaxPooling2 (None, 5, 5, 64)          0         \n",
            "_________________________________________________________________\n",
            "conv2d_2 (Conv2D)            (None, 3, 3, 64)          36928     \n",
            "_________________________________________________________________\n",
            "flatten (Flatten)            (None, 576)               0         \n",
            "_________________________________________________________________\n",
            "dense (Dense)                (None, 64)                36928     \n",
            "_________________________________________________________________\n",
            "dense_1 (Dense)              (None, 10)                650       \n",
            "=================================================================\n",
            "Total params: 93,322\n",
            "Trainable params: 93,322\n",
            "Non-trainable params: 0\n",
            "_________________________________________________________________\n"
          ],
          "name": "stdout"
        }
      ]
    },
    {
      "cell_type": "markdown",
      "metadata": {
        "id": "NOKVF4nKjymU"
      },
      "source": [
        "### Training the convnet on MNIST images"
      ]
    },
    {
      "cell_type": "code",
      "metadata": {
        "id": "oIcgUbbUjymV"
      },
      "source": [
        "from keras.datasets import mnist\n",
        "from keras.utils import to_categorical"
      ],
      "execution_count": null,
      "outputs": []
    },
    {
      "cell_type": "markdown",
      "metadata": {
        "id": "ZnJ2Pfs_jymX"
      },
      "source": [
        "#### Load Data"
      ]
    },
    {
      "cell_type": "code",
      "metadata": {
        "id": "JpHGHE9MjymY",
        "colab": {
          "base_uri": "https://localhost:8080/"
        },
        "outputId": "9cce7dbd-0781-48b6-dfa1-8fc7780df8ee"
      },
      "source": [
        "(train_images, train_labels), (test_images, test_labels) = mnist.load_data()\n",
        "train_images = train_images.reshape((60000, 28, 28, 1))\n",
        "train_images = train_images.astype('float32') / 255\n",
        "test_images = test_images.reshape((10000, 28, 28, 1))\n",
        "test_images = test_images.astype('float32') / 255\n",
        "train_labels = to_categorical(train_labels)\n",
        "test_labels = to_categorical(test_labels)"
      ],
      "execution_count": null,
      "outputs": [
        {
          "output_type": "stream",
          "text": [
            "Downloading data from https://storage.googleapis.com/tensorflow/tf-keras-datasets/mnist.npz\n",
            "11493376/11490434 [==============================] - 0s 0us/step\n"
          ],
          "name": "stdout"
        }
      ]
    },
    {
      "cell_type": "markdown",
      "metadata": {
        "id": "4HoTLrfSjymd"
      },
      "source": [
        "#### compile and fit model "
      ]
    },
    {
      "cell_type": "code",
      "metadata": {
        "id": "i23FDtC9jyme",
        "colab": {
          "base_uri": "https://localhost:8080/"
        },
        "outputId": "3df30b47-83f8-476a-839a-107c18db5165"
      },
      "source": [
        "model.compile(optimizer='rmsprop', \n",
        "              loss='categorical_crossentropy',\n",
        "              metrics=['accuracy'])\n",
        "history = model.fit(train_images, train_labels, epochs=5, batch_size=64, validation_split=0.2)"
      ],
      "execution_count": null,
      "outputs": [
        {
          "output_type": "stream",
          "text": [
            "Epoch 1/5\n",
            "750/750 [==============================] - 36s 5ms/step - loss: 0.4492 - accuracy: 0.8580 - val_loss: 0.0617 - val_accuracy: 0.9809\n",
            "Epoch 2/5\n",
            "750/750 [==============================] - 3s 4ms/step - loss: 0.0605 - accuracy: 0.9815 - val_loss: 0.0521 - val_accuracy: 0.9839\n",
            "Epoch 3/5\n",
            "750/750 [==============================] - 3s 4ms/step - loss: 0.0361 - accuracy: 0.9885 - val_loss: 0.0454 - val_accuracy: 0.9874\n",
            "Epoch 4/5\n",
            "750/750 [==============================] - 3s 4ms/step - loss: 0.0263 - accuracy: 0.9916 - val_loss: 0.0409 - val_accuracy: 0.9888\n",
            "Epoch 5/5\n",
            "750/750 [==============================] - 3s 4ms/step - loss: 0.0207 - accuracy: 0.9938 - val_loss: 0.0374 - val_accuracy: 0.9912\n"
          ],
          "name": "stdout"
        }
      ]
    },
    {
      "cell_type": "markdown",
      "metadata": {
        "id": "9zU8iI5ojymg"
      },
      "source": [
        "#### evaluate model"
      ]
    },
    {
      "cell_type": "code",
      "metadata": {
        "id": "Z3VeaL1Njymh",
        "colab": {
          "base_uri": "https://localhost:8080/"
        },
        "outputId": "c82cba5c-248a-4764-f927-a2f1723dd377"
      },
      "source": [
        "test_loss, test_acc = model.evaluate(test_images, test_labels)\n",
        "test_acc"
      ],
      "execution_count": null,
      "outputs": [
        {
          "output_type": "stream",
          "text": [
            "313/313 [==============================] - 1s 2ms/step - loss: 0.0281 - accuracy: 0.9914\n"
          ],
          "name": "stdout"
        },
        {
          "output_type": "execute_result",
          "data": {
            "text/plain": [
              "0.9914000034332275"
            ]
          },
          "metadata": {
            "tags": []
          },
          "execution_count": 7
        }
      ]
    },
    {
      "cell_type": "code",
      "metadata": {
        "id": "wXNZOY7Sjymj",
        "colab": {
          "base_uri": "https://localhost:8080/",
          "height": 545
        },
        "outputId": "3516202a-1a57-4ea8-aa43-4e0cfbfae52f"
      },
      "source": [
        "import matplotlib.pyplot as plt\n",
        "\n",
        "acc = history.history['accuracy']\n",
        "val_acc = history.history['val_accuracy']\n",
        "loss = history.history['loss']\n",
        "val_loss = history.history['val_loss']\n",
        "\n",
        "epochs = range(1, len(acc) + 1)\n",
        "\n",
        "plt.plot(epochs, acc, 'bo', label='Training acc')\n",
        "plt.plot(epochs, val_acc, 'b', label='Validation acc')\n",
        "plt.title('Training and validation accuracy')\n",
        "plt.legend()\n",
        "\n",
        "plt.figure()\n",
        "\n",
        "plt.plot(epochs, loss, 'bo', label='Training loss')\n",
        "plt.plot(epochs, val_loss, 'b', label='Validation loss')\n",
        "plt.title('Training and validation loss')\n",
        "plt.legend()\n",
        "\n",
        "plt.show()"
      ],
      "execution_count": null,
      "outputs": [
        {
          "output_type": "display_data",
          "data": {
            "image/png": "[encoded data removed]",
            "text/plain": [
              "<Figure size 432x288 with 1 Axes>"
            ]
          },
          "metadata": {
            "tags": [],
            "needs_background": "light"
          }
        },
        {
          "output_type": "display_data",
          "data": {
            "image/png": "[encoded data removed]",
            "text/plain": [
              "<Figure size 432x288 with 1 Axes>"
            ]
          },
          "metadata": {
            "tags": [],
            "needs_background": "light"
          }
        }
      ]
    },
    {
      "cell_type": "markdown",
      "metadata": {
        "id": "dsQMc0Iojyml"
      },
      "source": [
        "## Task 1\n",
        "\n",
        "Change the activation function and other parameters such as optimizer to see the effect on the network and it's performance. If possible create a grid search. "
      ]
    },
    {
      "cell_type": "code",
      "metadata": {
        "id": "owJ-29BrJXNa"
      },
      "source": [
        "# Write code here\n",
        "def getOptimizedModel(activation='relu',optimizer='rmsprop'):\n",
        "  #Instantiating a small convnet\n",
        "  model = models.Sequential()\n",
        "  model.add(layers.Conv2D(32, (3, 3), activation=activation, input_shape=(28, 28, 1)))\n",
        "  model.add(layers.MaxPooling2D((2, 2)))\n",
        "  model.add(layers.Conv2D(64, (3, 3), activation=activation))\n",
        "  model.add(layers.MaxPooling2D((2, 2)))\n",
        "  model.add(layers.Conv2D(64, (3, 3), activation=activation))\n",
        "  #Adding a classifier on top of the convnet\n",
        "  model.add(layers.Flatten())\n",
        "  model.add(layers.Dense(64, activation=activation))\n",
        "  model.add(layers.Dense(10, activation='softmax'))\n",
        "  #compile model\n",
        "  model.compile(optimizer=optimizer, loss='categorical_crossentropy',metrics=['accuracy'])\n",
        "  return model"
      ],
      "execution_count": null,
      "outputs": []
    },
    {
      "cell_type": "code",
      "metadata": {
        "id": "4f7SwV3buCXA"
      },
      "source": [
        "from sklearn.model_selection import GridSearchCV\n",
        "from keras.wrappers.scikit_learn import KerasClassifier\n",
        "import warnings\n",
        "warnings.filterwarnings(\"ignore\")\n",
        "\n",
        "# create model\n",
        "cnn_model = KerasClassifier(build_fn=getOptimizedModel, epochs=5, batch_size=64, verbose=0)"
      ],
      "execution_count": null,
      "outputs": []
    },
    {
      "cell_type": "code",
      "metadata": {
        "colab": {
          "base_uri": "https://localhost:8080/"
        },
        "id": "tq7XMXd2uGaA",
        "outputId": "80274fba-dfd8-4a16-89a3-d3267f5fe2d0"
      },
      "source": [
        "# the grid search parameters\n",
        "activation = ['relu', 'tanh', 'sigmoid']\n",
        "optimizer = ['SGD', 'Adam', 'Adamax']\n",
        "epochs = [5,10,20]\n",
        "\n",
        "# Grid Parameters Dictionary with parameters\n",
        "grid_parameters = dict(activation=activation,optimizer=optimizer,epochs=epochs)\n",
        "grid_parameters"
      ],
      "execution_count": null,
      "outputs": [
        {
          "output_type": "execute_result",
          "data": {
            "text/plain": [
              "{'activation': ['relu', 'tanh', 'sigmoid'],\n",
              " 'epochs': [5, 10, 20],\n",
              " 'optimizer': ['SGD', 'RMSprop', 'Adam', 'Adamax']}"
            ]
          },
          "metadata": {
            "tags": []
          },
          "execution_count": 11
        }
      ]
    },
    {
      "cell_type": "code",
      "metadata": {
        "id": "HQiGfpOku6_p"
      },
      "source": [
        "grid_search = GridSearchCV(estimator=cnn_model, param_grid=grid_parameters, n_jobs=-1, cv=3)\n",
        "grid_result = grid_search.fit(train_images, train_labels)\n"
      ],
      "execution_count": null,
      "outputs": []
    },
    {
      "cell_type": "code",
      "metadata": {
        "colab": {
          "base_uri": "https://localhost:8080/"
        },
        "id": "poLaKWf0unhh",
        "outputId": "193010c8-adc5-4d8e-a9f8-96400fdb1f59"
      },
      "source": [
        "# summarize results\n",
        "print(\"Best: %f using %s\" % (grid_result.best_score_, grid_result.best_params_))\n",
        "means = grid_result.cv_results_['mean_test_score']\n",
        "stds = grid_result.cv_results_['std_test_score']\n",
        "params = grid_result.cv_results_['params']\n",
        "for mean, stdev, param in zip(means, stds, params):\n",
        "    print(\"%f (%f) with: %r\" % (mean, stdev, param))"
      ],
      "execution_count": null,
      "outputs": [
        {
          "output_type": "stream",
          "text": [
            "Best: 0.989417 using {'activation': 'relu', 'epochs': 10, 'optimizer': 'RMSprop'}\n",
            "0.964517 (0.001501) with: {'activation': 'relu', 'epochs': 5, 'optimizer': 'SGD'}\n",
            "0.988267 (0.001192) with: {'activation': 'relu', 'epochs': 5, 'optimizer': 'RMSprop'}\n",
            "0.984317 (0.001957) with: {'activation': 'relu', 'epochs': 5, 'optimizer': 'Adam'}\n",
            "0.983067 (0.000347) with: {'activation': 'relu', 'epochs': 5, 'optimizer': 'Adamax'}\n",
            "0.974033 (0.001084) with: {'activation': 'relu', 'epochs': 10, 'optimizer': 'SGD'}\n",
            "0.989417 (0.000249) with: {'activation': 'relu', 'epochs': 10, 'optimizer': 'RMSprop'}\n",
            "0.987133 (0.001109) with: {'activation': 'relu', 'epochs': 10, 'optimizer': 'Adam'}\n",
            "0.984917 (0.000731) with: {'activation': 'relu', 'epochs': 10, 'optimizer': 'Adamax'}\n",
            "0.981433 (0.000625) with: {'activation': 'relu', 'epochs': 20, 'optimizer': 'SGD'}\n",
            "0.989067 (0.000726) with: {'activation': 'relu', 'epochs': 20, 'optimizer': 'RMSprop'}\n",
            "0.987300 (0.002480) with: {'activation': 'relu', 'epochs': 20, 'optimizer': 'Adam'}\n",
            "0.988200 (0.000708) with: {'activation': 'relu', 'epochs': 20, 'optimizer': 'Adamax'}\n",
            "0.956000 (0.001591) with: {'activation': 'tanh', 'epochs': 5, 'optimizer': 'SGD'}\n",
            "0.985967 (0.000837) with: {'activation': 'tanh', 'epochs': 5, 'optimizer': 'RMSprop'}\n",
            "0.984750 (0.002065) with: {'activation': 'tanh', 'epochs': 5, 'optimizer': 'Adam'}\n",
            "0.984833 (0.001299) with: {'activation': 'tanh', 'epochs': 5, 'optimizer': 'Adamax'}\n",
            "0.971200 (0.000495) with: {'activation': 'tanh', 'epochs': 10, 'optimizer': 'SGD'}\n",
            "0.988217 (0.000520) with: {'activation': 'tanh', 'epochs': 10, 'optimizer': 'RMSprop'}\n",
            "0.986483 (0.000656) with: {'activation': 'tanh', 'epochs': 10, 'optimizer': 'Adam'}\n",
            "0.988617 (0.000143) with: {'activation': 'tanh', 'epochs': 10, 'optimizer': 'Adamax'}\n",
            "0.980650 (0.000255) with: {'activation': 'tanh', 'epochs': 20, 'optimizer': 'SGD'}\n",
            "0.988517 (0.000651) with: {'activation': 'tanh', 'epochs': 20, 'optimizer': 'RMSprop'}\n",
            "0.986883 (0.001400) with: {'activation': 'tanh', 'epochs': 20, 'optimizer': 'Adam'}\n",
            "0.989167 (0.000961) with: {'activation': 'tanh', 'epochs': 20, 'optimizer': 'Adamax'}\n",
            "0.109233 (0.003863) with: {'activation': 'sigmoid', 'epochs': 5, 'optimizer': 'SGD'}\n",
            "0.976617 (0.000548) with: {'activation': 'sigmoid', 'epochs': 5, 'optimizer': 'RMSprop'}\n",
            "0.977150 (0.000776) with: {'activation': 'sigmoid', 'epochs': 5, 'optimizer': 'Adam'}\n",
            "0.955383 (0.003770) with: {'activation': 'sigmoid', 'epochs': 5, 'optimizer': 'Adamax'}\n",
            "0.106500 (0.007371) with: {'activation': 'sigmoid', 'epochs': 10, 'optimizer': 'SGD'}\n",
            "0.983267 (0.000849) with: {'activation': 'sigmoid', 'epochs': 10, 'optimizer': 'RMSprop'}\n",
            "0.983133 (0.001232) with: {'activation': 'sigmoid', 'epochs': 10, 'optimizer': 'Adam'}\n",
            "0.971667 (0.002634) with: {'activation': 'sigmoid', 'epochs': 10, 'optimizer': 'Adamax'}\n",
            "0.107100 (0.005634) with: {'activation': 'sigmoid', 'epochs': 20, 'optimizer': 'SGD'}\n",
            "0.987200 (0.000349) with: {'activation': 'sigmoid', 'epochs': 20, 'optimizer': 'RMSprop'}\n",
            "0.986417 (0.000649) with: {'activation': 'sigmoid', 'epochs': 20, 'optimizer': 'Adam'}\n",
            "0.981600 (0.000636) with: {'activation': 'sigmoid', 'epochs': 20, 'optimizer': 'Adamax'}\n"
          ],
          "name": "stdout"
        }
      ]
    }
  ]
}