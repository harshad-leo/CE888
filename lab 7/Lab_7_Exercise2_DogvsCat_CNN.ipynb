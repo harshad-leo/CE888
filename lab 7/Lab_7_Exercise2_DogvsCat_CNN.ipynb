{
  "nbformat": 4,
  "nbformat_minor": 0,
  "metadata": {
    "colab": {
      "name": "Lab_7_Exercise2_DogvsCat_CNN.ipynb",
      "provenance": [],
      "toc_visible": true,
      "include_colab_link": true
    },
    "kernelspec": {
      "name": "python3",
      "display_name": "Python 3"
    },
    "accelerator": "GPU"
  },
  "cells": [
    {
      "cell_type": "markdown",
      "metadata": {
        "id": "view-in-github",
        "colab_type": "text"
      },
      "source": [
        "<a href=\"https://colab.research.google.com/github/harshad-leo/CE888/blob/main/lab%207/Lab_7_Exercise2_DogvsCat_CNN.ipynb\" target=\"_parent\"><img src=\"https://colab.research.google.com/assets/colab-badge.svg\" alt=\"Open In Colab\"/></a>"
      ]
    },
    {
      "cell_type": "markdown",
      "metadata": {
        "id": "qTh9DiKVslsJ"
      },
      "source": [
        "## Dogs vs. Cats \n",
        "\n",
        "In this competition, you'll write an algorithm to classify whether images contain either a dog or a cat.  This is easy for humans, dogs, and cats. Your computer will find it a bit more difficult.\n",
        "\n",
        "![alt text](https://miro.medium.com/max/3000/1*bhFifratH9DjKqMBTeQG5A.gif)\n",
        "\n",
        "Ref: https://medium.com/@thegrigorian/rolling-in-the-deep-cnn-c8d3f7108c8c"
      ]
    },
    {
      "cell_type": "markdown",
      "metadata": {
        "id": "RSBI-_mSSY1g"
      },
      "source": [
        "Get your API Key from Kaggle using following steps:\n",
        "1. Login to [Kaggle](https://www.kaggle.com/) or Register if you don't have account\n",
        "2. Open Dataset (https://www.kaggle.com/c/dogs-vs-cats/rules) and accept terms and condition. \n",
        "3. On the top right corner click on your Icon and go to accounts and press a button \"Create New API Token\". It will download a JSON file containing your username and key. \n",
        "4. Now, paste both below. \n"
      ]
    },
    {
      "cell_type": "code",
      "metadata": {
        "id": "YmXSOc0tZIGA",
        "colab": {
          "base_uri": "https://localhost:8080/"
        },
        "outputId": "2103542d-24be-4540-82fa-47731cc6436c"
      },
      "source": [
        "import os\n",
        "os.environ['KAGGLE_USERNAME'] = \"abhaymamadapur\" # username from the json file\n",
        "os.environ['KAGGLE_KEY'] = \"df3333ecc0ee818cc56361b285847655\" # key from the json file\n",
        "!kaggle competitions download -c dogs-vs-cats # api copied from kaggle (https://www.kaggle.com/c/dogs-vs-cats/data)"
      ],
      "execution_count": null,
      "outputs": [
        {
          "output_type": "stream",
          "text": [
            "Warning: Looks like you're using an outdated API Version, please consider updating (server 1.5.12 / client 1.5.4)\n",
            "Downloading test1.zip to /content\n",
            " 97% 264M/271M [00:03<00:00, 72.7MB/s]\n",
            "100% 271M/271M [00:03<00:00, 72.5MB/s]\n",
            "Downloading train.zip to /content\n",
            "100% 542M/543M [00:03<00:00, 187MB/s]\n",
            "100% 543M/543M [00:03<00:00, 173MB/s]\n",
            "Downloading sampleSubmission.csv to /content\n",
            "  0% 0.00/86.8k [00:00<?, ?B/s]\n",
            "100% 86.8k/86.8k [00:00<00:00, 90.4MB/s]\n"
          ],
          "name": "stdout"
        }
      ]
    },
    {
      "cell_type": "code",
      "metadata": {
        "id": "PiwIL8d1n7eS",
        "colab": {
          "base_uri": "https://localhost:8080/"
        },
        "outputId": "9060ade9-f5d2-420e-c505-57684f0b47eb"
      },
      "source": [
        "# Unzip training data\n",
        "from zipfile import ZipFile\n",
        "file_name = \"/content/train.zip\"\n",
        "with ZipFile(file_name, 'r') as zip:\n",
        "  zip.extractall()\n",
        "  print('done')"
      ],
      "execution_count": null,
      "outputs": [
        {
          "output_type": "stream",
          "text": [
            "done\n"
          ],
          "name": "stdout"
        }
      ]
    },
    {
      "cell_type": "code",
      "metadata": {
        "id": "sa2Bj5i7pPKV",
        "colab": {
          "base_uri": "https://localhost:8080/"
        },
        "outputId": "5debb63d-6a07-43f6-a227-bdb76417b53f"
      },
      "source": [
        "# Get all the paths\n",
        "data_dir_list = os.listdir('/content/train')\n",
        "#print(data_dir_list)\n",
        "path, dirs, files = next(os.walk(\"/content/train\"))\n",
        "file_count = len(files)\n",
        "print(file_count)"
      ],
      "execution_count": null,
      "outputs": [
        {
          "output_type": "stream",
          "text": [
            "25000\n"
          ],
          "name": "stdout"
        }
      ]
    },
    {
      "cell_type": "code",
      "metadata": {
        "id": "0ERlHkfHqpK8"
      },
      "source": [
        "# Make new base directory\n",
        "original_dataset_dir = '/content/train'\n",
        "base_dir = '/content/cats_and_dogs_small'\n",
        "os.mkdir(base_dir)"
      ],
      "execution_count": null,
      "outputs": []
    },
    {
      "cell_type": "code",
      "metadata": {
        "id": "AANB1UJ6rQhM"
      },
      "source": [
        "train_dir = os.path.join(base_dir, 'train')\n",
        "os.mkdir(train_dir)\n",
        "\n",
        "validation_dir = os.path.join(base_dir, 'validation')\n",
        "os.mkdir(validation_dir)\n",
        "\n",
        "test_dir = os.path.join(base_dir, 'test')\n",
        "os.mkdir(test_dir)\n",
        "\n",
        "train_cats_dir = os.path.join(train_dir, 'cats')\n",
        "os.mkdir(train_cats_dir)\n",
        "\n",
        "train_dogs_dir = os.path.join(train_dir, 'dogs')\n",
        "os.mkdir(train_dogs_dir)\n",
        "\n",
        "validation_cats_dir = os.path.join(validation_dir, 'cats')\n",
        "os.mkdir(validation_cats_dir)\n",
        "\n",
        "validation_dogs_dir = os.path.join(validation_dir, 'dogs')\n",
        "os.mkdir(validation_dogs_dir)\n",
        "\n",
        "test_cats_dir = os.path.join(test_dir, 'cats')\n",
        "os.mkdir(test_cats_dir)\n",
        "\n",
        "test_dogs_dir = os.path.join(test_dir, 'dogs')\n",
        "os.mkdir(test_dogs_dir)"
      ],
      "execution_count": null,
      "outputs": []
    },
    {
      "cell_type": "code",
      "metadata": {
        "id": "ULRgL9s9rV8T"
      },
      "source": [
        "import shutil\n",
        "fnames = ['cat.{}.jpg'.format(i) for i in range(1000)]\n",
        "for fname in fnames:\n",
        "    src = os.path.join(original_dataset_dir, fname)\n",
        "    dst = os.path.join(train_cats_dir, fname)\n",
        "    #print(src,dst)\n",
        "    shutil.copyfile(src, dst)\n",
        "    \n",
        "fnames = ['cat.{}.jpg'.format(i) for i in range(1000, 1500)]\n",
        "for fname in fnames:\n",
        "    src = os.path.join(original_dataset_dir, fname)\n",
        "    dst = os.path.join(validation_cats_dir, fname)\n",
        "    shutil.copyfile(src, dst)\n",
        "\n",
        "fnames = ['cat.{}.jpg'.format(i) for i in range(1500, 2000)]\n",
        "for fname in fnames:\n",
        "    src = os.path.join(original_dataset_dir, fname)\n",
        "    dst = os.path.join(test_cats_dir, fname)\n",
        "    shutil.copyfile(src, dst)\n",
        "    \n",
        "fnames = ['dog.{}.jpg'.format(i) for i in range(1000)]\n",
        "for fname in fnames:\n",
        "    src = os.path.join(original_dataset_dir, fname)\n",
        "    dst = os.path.join(train_dogs_dir, fname)\n",
        "    shutil.copyfile(src, dst)\n",
        "\n",
        "fnames = ['dog.{}.jpg'.format(i) for i in range(1000, 1500)]\n",
        "for fname in fnames:\n",
        "    src = os.path.join(original_dataset_dir, fname)\n",
        "    dst = os.path.join(validation_dogs_dir, fname)\n",
        "    shutil.copyfile(src, dst)\n",
        "\n",
        "fnames = ['dog.{}.jpg'.format(i) for i in range(1500, 2000)]\n",
        "for fname in fnames:\n",
        "    src = os.path.join(original_dataset_dir, fname)\n",
        "    dst = os.path.join(test_dogs_dir, fname)\n",
        "    shutil.copyfile(src, dst)"
      ],
      "execution_count": null,
      "outputs": []
    },
    {
      "cell_type": "code",
      "metadata": {
        "id": "ul3XAbIyr7vC",
        "colab": {
          "base_uri": "https://localhost:8080/"
        },
        "outputId": "3d1d8cf7-c627-4fcf-9552-d2963d3aa5da"
      },
      "source": [
        "print('total training cat images:', len(os.listdir(train_cats_dir)))\n",
        "print('total training dog images:', len(os.listdir(train_dogs_dir)))\n",
        "print('total validation cat images:', len(os.listdir(validation_cats_dir)))\n",
        "\n",
        "print('total validation dog images:', len(os.listdir(validation_dogs_dir)))\n",
        "print('total test cat images:', len(os.listdir(test_cats_dir)))\n",
        "print('total test dog images:', len(os.listdir(test_dogs_dir)))"
      ],
      "execution_count": null,
      "outputs": [
        {
          "output_type": "stream",
          "text": [
            "total training cat images: 1000\n",
            "total training dog images: 1000\n",
            "total validation cat images: 500\n",
            "total validation dog images: 500\n",
            "total test cat images: 500\n",
            "total test dog images: 500\n"
          ],
          "name": "stdout"
        }
      ]
    },
    {
      "cell_type": "code",
      "metadata": {
        "id": "o9yTA21_r-ma",
        "colab": {
          "base_uri": "https://localhost:8080/"
        },
        "outputId": "5dc08b98-03cf-4589-af78-41aa3d9cf1ad"
      },
      "source": [
        "from keras import layers\n",
        "from keras import models\n",
        "\n",
        "model = models.Sequential()\n",
        "model.add(layers.Conv2D(32, (3, 3), activation='relu', input_shape=(150, 150, 3)))\n",
        "model.add(layers.MaxPooling2D((2, 2)))\n",
        "model.add(layers.Conv2D(64, (3, 3), activation='relu'))\n",
        "model.add(layers.MaxPooling2D((2, 2)))\n",
        "model.add(layers.Conv2D(128, (3, 3), activation='relu'))\n",
        "model.add(layers.MaxPooling2D((2, 2)))\n",
        "model.add(layers.Conv2D(128, (3, 3), activation='relu'))\n",
        "model.add(layers.MaxPooling2D((2, 2)))\n",
        "model.add(layers.Flatten())\n",
        "model.add(layers.Dense(512, activation='relu'))\n",
        "model.add(layers.Dense(1, activation='sigmoid'))\n",
        "model.summary()"
      ],
      "execution_count": null,
      "outputs": [
        {
          "output_type": "stream",
          "text": [
            "Model: \"sequential\"\n",
            "_________________________________________________________________\n",
            "Layer (type)                 Output Shape              Param #   \n",
            "=================================================================\n",
            "conv2d (Conv2D)              (None, 148, 148, 32)      896       \n",
            "_________________________________________________________________\n",
            "max_pooling2d (MaxPooling2D) (None, 74, 74, 32)        0         \n",
            "_________________________________________________________________\n",
            "conv2d_1 (Conv2D)            (None, 72, 72, 64)        18496     \n",
            "_________________________________________________________________\n",
            "max_pooling2d_1 (MaxPooling2 (None, 36, 36, 64)        0         \n",
            "_________________________________________________________________\n",
            "conv2d_2 (Conv2D)            (None, 34, 34, 128)       73856     \n",
            "_________________________________________________________________\n",
            "max_pooling2d_2 (MaxPooling2 (None, 17, 17, 128)       0         \n",
            "_________________________________________________________________\n",
            "conv2d_3 (Conv2D)            (None, 15, 15, 128)       147584    \n",
            "_________________________________________________________________\n",
            "max_pooling2d_3 (MaxPooling2 (None, 7, 7, 128)         0         \n",
            "_________________________________________________________________\n",
            "flatten (Flatten)            (None, 6272)              0         \n",
            "_________________________________________________________________\n",
            "dense (Dense)                (None, 512)               3211776   \n",
            "_________________________________________________________________\n",
            "dense_1 (Dense)              (None, 1)                 513       \n",
            "=================================================================\n",
            "Total params: 3,453,121\n",
            "Trainable params: 3,453,121\n",
            "Non-trainable params: 0\n",
            "_________________________________________________________________\n"
          ],
          "name": "stdout"
        }
      ]
    },
    {
      "cell_type": "code",
      "metadata": {
        "id": "2mG8wekxsBVS"
      },
      "source": [
        "from keras import optimizers\n",
        "model.compile(loss='binary_crossentropy', \n",
        "              optimizer=optimizers.RMSprop(lr=1e-4),\n",
        "              metrics=['acc'])"
      ],
      "execution_count": null,
      "outputs": []
    },
    {
      "cell_type": "markdown",
      "metadata": {
        "id": "7zS4Klm8qWp6"
      },
      "source": [
        "## Using ImageDataGenerator to read images from directories\n",
        "As you know by now, data should be formatted into appropriately preprocessed floatingpoint tensors before being fed into the network. Currently, the data sits on a drive as JPEG files, so the steps for getting it into the network are roughly as follows:\n",
        "\n",
        "* Read the picture files.\n",
        "* Decode the JPEG content to RGB grids of pixels.\n",
        "* Convert these into floating-point tensors.\n",
        "* Rescale the pixel values (between 0 and 255) to the [0, 1] interval (as you know, neural networks prefer to deal with small input values).\n",
        "\n",
        "It may seem a bit daunting, but fortunately Keras has utilities to take care of these steps automatically. Keras has a module with image-processing helper tools, located at keras.preprocessing.image. In particular, it contains the class ImageDataGenerator,which lets you quickly set up Python generators that can automatically turn image files on disk into batches of preprocessed tensors."
      ]
    },
    {
      "cell_type": "code",
      "metadata": {
        "id": "XJ7XU7t9sEh6",
        "colab": {
          "base_uri": "https://localhost:8080/"
        },
        "outputId": "2f8a4c95-7532-467a-dd01-56452c6ea537"
      },
      "source": [
        "from keras.preprocessing.image import ImageDataGenerator\n",
        "\n",
        "train_datagen = ImageDataGenerator(rescale=1./255)\n",
        "test_datagen = ImageDataGenerator(rescale=1./255)\n",
        "\n",
        "train_generator = train_datagen.flow_from_directory(train_dir,\n",
        "                                                    target_size=(150, 150), \n",
        "                                                    batch_size=20,\n",
        "                                                    class_mode='binary')\n",
        "\n",
        "validation_generator = test_datagen.flow_from_directory(validation_dir,\n",
        "                                                        target_size=(150, 150),\n",
        "                                                        batch_size=20,\n",
        "                                                        class_mode='binary')"
      ],
      "execution_count": null,
      "outputs": [
        {
          "output_type": "stream",
          "text": [
            "Found 2000 images belonging to 2 classes.\n",
            "Found 1000 images belonging to 2 classes.\n"
          ],
          "name": "stdout"
        }
      ]
    },
    {
      "cell_type": "markdown",
      "metadata": {
        "id": "SEgLywySqm4u"
      },
      "source": [
        "Let’s fit the model to the data using the generator. You do so using the fit_generator method, the equivalent of fit for data generators like this one. It expects as its first argument a Python generator that will yield batches of inputs and targets indefinitely,like this one does. Because the data is being generated endlessly, the Keras model needs to know how many samples to draw from the generator before declaring anepoch over. This is the role of the `steps_per_epoch` argument: after having drawn `steps_per_epoch` batches from the generator—that is, after having run for `steps_per_epoch` gradient descent steps—the fitting process will go to the next epoch. In this case, batches are 20 samples, so it will take 100 batches until you see your target of 2,000 samples.\n",
        "\n",
        "When using fit_generator, you can pass a validation_data argument, much as with the fit method. It’s important to note that this argument is allowed to be a data generator, but it could also be a tuple of Numpy arrays. If you pass a generator as validation_data, then this generator is expected to yield batches of validation data endlessly; thus you should also specify the validation_steps argument, which tells the process how many batches to draw from the validation generator for evaluation."
      ]
    },
    {
      "cell_type": "code",
      "metadata": {
        "id": "yMyfPphJsJG6",
        "colab": {
          "base_uri": "https://localhost:8080/"
        },
        "outputId": "a324d12b-5456-40ad-b1c7-0ad0e26f6522"
      },
      "source": [
        "history = model.fit_generator(train_generator,\n",
        "                              steps_per_epoch=100,\n",
        "                              epochs=30,\n",
        "                              validation_data=validation_generator,\n",
        "                              validation_steps=10)"
      ],
      "execution_count": null,
      "outputs": [
        {
          "output_type": "stream",
          "text": [
            "/usr/local/lib/python3.7/dist-packages/tensorflow/python/keras/engine/training.py:1844: UserWarning: `Model.fit_generator` is deprecated and will be removed in a future version. Please use `Model.fit`, which supports generators.\n",
            "  warnings.warn('`Model.fit_generator` is deprecated and '\n"
          ],
          "name": "stderr"
        },
        {
          "output_type": "stream",
          "text": [
            "Epoch 1/30\n",
            "100/100 [==============================] - 38s 69ms/step - loss: 0.6950 - acc: 0.5124 - val_loss: 0.6895 - val_acc: 0.5250\n",
            "Epoch 2/30\n",
            "100/100 [==============================] - 6s 64ms/step - loss: 0.6654 - acc: 0.5993 - val_loss: 0.6466 - val_acc: 0.6300\n",
            "Epoch 3/30\n",
            "100/100 [==============================] - 6s 62ms/step - loss: 0.6391 - acc: 0.6373 - val_loss: 0.6150 - val_acc: 0.6650\n",
            "Epoch 4/30\n",
            "100/100 [==============================] - 6s 62ms/step - loss: 0.5901 - acc: 0.6722 - val_loss: 0.6023 - val_acc: 0.6400\n",
            "Epoch 5/30\n",
            "100/100 [==============================] - 6s 63ms/step - loss: 0.5437 - acc: 0.7130 - val_loss: 0.6054 - val_acc: 0.6850\n",
            "Epoch 6/30\n",
            "100/100 [==============================] - 6s 63ms/step - loss: 0.5096 - acc: 0.7392 - val_loss: 0.5342 - val_acc: 0.6900\n",
            "Epoch 7/30\n",
            "100/100 [==============================] - 6s 62ms/step - loss: 0.4661 - acc: 0.7757 - val_loss: 0.5429 - val_acc: 0.7200\n",
            "Epoch 8/30\n",
            "100/100 [==============================] - 6s 62ms/step - loss: 0.4492 - acc: 0.7977 - val_loss: 0.5612 - val_acc: 0.7050\n",
            "Epoch 9/30\n",
            "100/100 [==============================] - 6s 61ms/step - loss: 0.4239 - acc: 0.8141 - val_loss: 0.5181 - val_acc: 0.7600\n",
            "Epoch 10/30\n",
            "100/100 [==============================] - 6s 61ms/step - loss: 0.3965 - acc: 0.8186 - val_loss: 0.5916 - val_acc: 0.6950\n",
            "Epoch 11/30\n",
            "100/100 [==============================] - 6s 62ms/step - loss: 0.3674 - acc: 0.8430 - val_loss: 0.5879 - val_acc: 0.6950\n",
            "Epoch 12/30\n",
            "100/100 [==============================] - 6s 62ms/step - loss: 0.3599 - acc: 0.8471 - val_loss: 0.5150 - val_acc: 0.7700\n",
            "Epoch 13/30\n",
            "100/100 [==============================] - 6s 61ms/step - loss: 0.3089 - acc: 0.8781 - val_loss: 0.5465 - val_acc: 0.7300\n",
            "Epoch 14/30\n",
            "100/100 [==============================] - 6s 62ms/step - loss: 0.3083 - acc: 0.8646 - val_loss: 0.6356 - val_acc: 0.7200\n",
            "Epoch 15/30\n",
            "100/100 [==============================] - 6s 61ms/step - loss: 0.2689 - acc: 0.8850 - val_loss: 0.5912 - val_acc: 0.7550\n",
            "Epoch 16/30\n",
            "100/100 [==============================] - 6s 61ms/step - loss: 0.2758 - acc: 0.8941 - val_loss: 0.6584 - val_acc: 0.7000\n",
            "Epoch 17/30\n",
            "100/100 [==============================] - 6s 61ms/step - loss: 0.2567 - acc: 0.8925 - val_loss: 0.5819 - val_acc: 0.7650\n",
            "Epoch 18/30\n",
            "100/100 [==============================] - 6s 61ms/step - loss: 0.2227 - acc: 0.9283 - val_loss: 0.6363 - val_acc: 0.6850\n",
            "Epoch 19/30\n",
            "100/100 [==============================] - 6s 62ms/step - loss: 0.1922 - acc: 0.9310 - val_loss: 0.6354 - val_acc: 0.7250\n",
            "Epoch 20/30\n",
            "100/100 [==============================] - 6s 61ms/step - loss: 0.1596 - acc: 0.9509 - val_loss: 0.6673 - val_acc: 0.7500\n",
            "Epoch 21/30\n",
            "100/100 [==============================] - 6s 62ms/step - loss: 0.1530 - acc: 0.9481 - val_loss: 1.1095 - val_acc: 0.6650\n",
            "Epoch 22/30\n",
            "100/100 [==============================] - 6s 62ms/step - loss: 0.1402 - acc: 0.9593 - val_loss: 0.5338 - val_acc: 0.7700\n",
            "Epoch 23/30\n",
            "100/100 [==============================] - 6s 61ms/step - loss: 0.1162 - acc: 0.9660 - val_loss: 0.8632 - val_acc: 0.7300\n",
            "Epoch 24/30\n",
            "100/100 [==============================] - 6s 61ms/step - loss: 0.1193 - acc: 0.9643 - val_loss: 0.7295 - val_acc: 0.7200\n",
            "Epoch 25/30\n",
            "100/100 [==============================] - 6s 61ms/step - loss: 0.0888 - acc: 0.9755 - val_loss: 1.0280 - val_acc: 0.6700\n",
            "Epoch 26/30\n",
            "100/100 [==============================] - 6s 61ms/step - loss: 0.0751 - acc: 0.9818 - val_loss: 0.8269 - val_acc: 0.7250\n",
            "Epoch 27/30\n",
            "100/100 [==============================] - 6s 63ms/step - loss: 0.0626 - acc: 0.9841 - val_loss: 1.1990 - val_acc: 0.6300\n",
            "Epoch 28/30\n",
            "100/100 [==============================] - 6s 62ms/step - loss: 0.0560 - acc: 0.9884 - val_loss: 1.1395 - val_acc: 0.7000\n",
            "Epoch 29/30\n",
            "100/100 [==============================] - 6s 61ms/step - loss: 0.0444 - acc: 0.9927 - val_loss: 1.1807 - val_acc: 0.7200\n",
            "Epoch 30/30\n",
            "100/100 [==============================] - 6s 62ms/step - loss: 0.0305 - acc: 0.9954 - val_loss: 0.8919 - val_acc: 0.7600\n"
          ],
          "name": "stdout"
        }
      ]
    },
    {
      "cell_type": "code",
      "metadata": {
        "id": "MZaZ2HWZsNUi",
        "colab": {
          "base_uri": "https://localhost:8080/",
          "height": 545
        },
        "outputId": "3980a66f-1cd4-4600-9790-c657670d0ed0"
      },
      "source": [
        "model.save('cats_and_dogs_small_1.h5')\n",
        "\n",
        "import matplotlib.pyplot as plt\n",
        "\n",
        "acc = history.history['acc']\n",
        "val_acc = history.history['val_acc']\n",
        "loss = history.history['loss']\n",
        "val_loss = history.history['val_loss']\n",
        "\n",
        "epochs = range(1, len(acc) + 1)\n",
        "\n",
        "plt.plot(epochs, acc, 'bo', label='Training acc')\n",
        "plt.plot(epochs, val_acc, 'b', label='Validation acc')\n",
        "plt.title('Training and validation accuracy')\n",
        "plt.legend()\n",
        "\n",
        "plt.figure()\n",
        "\n",
        "plt.plot(epochs, loss, 'bo', label='Training loss')\n",
        "plt.plot(epochs, val_loss, 'b', label='Validation loss')\n",
        "plt.title('Training and validation loss')\n",
        "plt.legend()\n",
        "\n",
        "plt.show()"
      ],
      "execution_count": null,
      "outputs": [
        {
          "output_type": "display_data",
          "data": {
            "image/png": "[encoded data removed]",
            "text/plain": [
              "<Figure size 432x288 with 1 Axes>"
            ]
          },
          "metadata": {
            "tags": [],
            "needs_background": "light"
          }
        },
        {
          "output_type": "display_data",
          "data": {
            "image/png": "[encoded data removed]",
            "text/plain": [
              "<Figure size 432x288 with 1 Axes>"
            ]
          },
          "metadata": {
            "tags": [],
            "needs_background": "light"
          }
        }
      ]
    },
    {
      "cell_type": "markdown",
      "metadata": {
        "id": "XKZmXmBcq_8-"
      },
      "source": [
        "## Convolutional Networks with Dropout\n",
        "\n",
        "![alt text](https://camo.githubusercontent.com/ee6fa1073247cd2c3d241300caf110d7a7541bc5/68747470733a2f2f63646e2d696d616765732d312e6d656469756d2e636f6d2f6d61782f3830302f312a4972644a355067684439596f4f7956415137334d4a772e676966)\n",
        "\n",
        "Ref: https://github.com/mneha4/Training-Neural-Nets---Guidelines"
      ]
    },
    {
      "cell_type": "code",
      "metadata": {
        "id": "wu3cqeYQrDeN"
      },
      "source": [
        "model = models.Sequential()\n",
        "model.add(layers.Conv2D(32, (3, 3), activation='relu',\n",
        "input_shape=(150, 150, 3)))\n",
        "model.add(layers.MaxPooling2D((2, 2)))\n",
        "model.add(layers.Conv2D(64, (3, 3), activation='relu'))\n",
        "model.add(layers.MaxPooling2D((2, 2)))\n",
        "model.add(layers.Conv2D(128, (3, 3), activation='relu'))\n",
        "model.add(layers.MaxPooling2D((2, 2)))\n",
        "model.add(layers.Conv2D(128, (3, 3), activation='relu'))\n",
        "model.add(layers.MaxPooling2D((2, 2)))\n",
        "model.add(layers.Flatten())\n",
        "model.add(layers.Dropout(0.5))\n",
        "model.add(layers.Dense(512, activation='relu'))\n",
        "model.add(layers.Dense(1, activation='sigmoid'))\n",
        "\n",
        "model.compile(loss='binary_crossentropy',\n",
        "              optimizer=optimizers.RMSprop(lr=1e-4),\n",
        "              metrics=['acc'])"
      ],
      "execution_count": null,
      "outputs": []
    },
    {
      "cell_type": "code",
      "metadata": {
        "id": "QSeLpvY0rH7F",
        "colab": {
          "base_uri": "https://localhost:8080/"
        },
        "outputId": "687f5b30-d665-4de2-d5b1-de29e1aa2578"
      },
      "source": [
        "\n",
        "train_datagen = ImageDataGenerator(rescale=1./255,\n",
        "                                   rotation_range=40,\n",
        "                                   width_shift_range=0.2,\n",
        "                                   height_shift_range=0.2,\n",
        "                                   shear_range=0.2,\n",
        "                                   zoom_range=0.2,\n",
        "                                   horizontal_flip=True,)\n",
        "\n",
        "test_datagen = ImageDataGenerator(rescale=1./255)\n",
        "\n",
        "train_generator = train_datagen.flow_from_directory(train_dir,\n",
        "                                                    target_size=(150, 150),\n",
        "                                                    batch_size=32,\n",
        "                                                    class_mode='binary')\n",
        "\n",
        "validation_generator = test_datagen.flow_from_directory(validation_dir,\n",
        "                                                        target_size=(150, 150),\n",
        "                                                        batch_size=32,\n",
        "                                                        class_mode='binary')\n",
        "\n",
        "history = model.fit_generator(train_generator,\n",
        "                              steps_per_epoch=100,\n",
        "                              epochs=20,\n",
        "                              validation_data=validation_generator,\n",
        "                              validation_steps=50)"
      ],
      "execution_count": null,
      "outputs": [
        {
          "output_type": "stream",
          "text": [
            "Found 2000 images belonging to 2 classes.\n",
            "Found 1000 images belonging to 2 classes.\n"
          ],
          "name": "stdout"
        },
        {
          "output_type": "stream",
          "text": [
            "/usr/local/lib/python3.7/dist-packages/tensorflow/python/keras/engine/training.py:1844: UserWarning: `Model.fit_generator` is deprecated and will be removed in a future version. Please use `Model.fit`, which supports generators.\n",
            "  warnings.warn('`Model.fit_generator` is deprecated and '\n"
          ],
          "name": "stderr"
        },
        {
          "output_type": "stream",
          "text": [
            "Epoch 1/20\n",
            "100/100 [==============================] - 16s 164ms/step - loss: 0.6811 - acc: 0.5580 - val_loss: 0.7507 - val_acc: 0.5040\n",
            "Epoch 2/20\n",
            "100/100 [==============================] - 16s 164ms/step - loss: 0.6675 - acc: 0.5815 - val_loss: 0.6448 - val_acc: 0.6230\n",
            "Epoch 3/20\n",
            "100/100 [==============================] - 16s 163ms/step - loss: 0.6563 - acc: 0.5980 - val_loss: 0.6273 - val_acc: 0.6490\n",
            "Epoch 4/20\n",
            "100/100 [==============================] - 16s 162ms/step - loss: 0.6442 - acc: 0.6185 - val_loss: 0.7273 - val_acc: 0.5510\n",
            "Epoch 5/20\n",
            "100/100 [==============================] - 16s 163ms/step - loss: 0.6300 - acc: 0.6445 - val_loss: 0.6225 - val_acc: 0.6410\n",
            "Epoch 6/20\n",
            "100/100 [==============================] - 16s 164ms/step - loss: 0.6154 - acc: 0.6425 - val_loss: 0.6231 - val_acc: 0.6610\n",
            "Epoch 7/20\n",
            "100/100 [==============================] - 16s 163ms/step - loss: 0.6057 - acc: 0.6735 - val_loss: 0.5993 - val_acc: 0.6720\n",
            "Epoch 8/20\n",
            "100/100 [==============================] - 16s 162ms/step - loss: 0.6101 - acc: 0.6695 - val_loss: 0.6257 - val_acc: 0.6420\n",
            "Epoch 9/20\n",
            "100/100 [==============================] - 16s 163ms/step - loss: 0.6063 - acc: 0.6635 - val_loss: 0.5631 - val_acc: 0.7040\n",
            "Epoch 10/20\n",
            "100/100 [==============================] - 16s 164ms/step - loss: 0.5912 - acc: 0.6820 - val_loss: 0.5653 - val_acc: 0.7040\n",
            "Epoch 11/20\n",
            "100/100 [==============================] - 16s 164ms/step - loss: 0.5961 - acc: 0.6810 - val_loss: 0.5763 - val_acc: 0.6900\n",
            "Epoch 12/20\n",
            "100/100 [==============================] - 16s 161ms/step - loss: 0.5708 - acc: 0.6930 - val_loss: 0.5910 - val_acc: 0.6860\n",
            "Epoch 13/20\n",
            "100/100 [==============================] - 16s 163ms/step - loss: 0.5769 - acc: 0.6900 - val_loss: 0.5691 - val_acc: 0.7010\n",
            "Epoch 14/20\n",
            "100/100 [==============================] - 16s 162ms/step - loss: 0.5740 - acc: 0.6960 - val_loss: 0.5928 - val_acc: 0.6910\n",
            "Epoch 15/20\n",
            "100/100 [==============================] - 16s 161ms/step - loss: 0.5666 - acc: 0.7075 - val_loss: 0.5880 - val_acc: 0.6960\n",
            "Epoch 16/20\n",
            "100/100 [==============================] - 16s 160ms/step - loss: 0.5616 - acc: 0.7085 - val_loss: 0.5466 - val_acc: 0.7210\n",
            "Epoch 17/20\n",
            "100/100 [==============================] - 16s 163ms/step - loss: 0.5640 - acc: 0.7025 - val_loss: 0.5522 - val_acc: 0.7130\n",
            "Epoch 18/20\n",
            "100/100 [==============================] - 16s 162ms/step - loss: 0.5502 - acc: 0.7160 - val_loss: 0.5260 - val_acc: 0.7350\n",
            "Epoch 19/20\n",
            "100/100 [==============================] - 16s 163ms/step - loss: 0.5472 - acc: 0.7150 - val_loss: 0.5984 - val_acc: 0.6990\n",
            "Epoch 20/20\n",
            "100/100 [==============================] - 16s 160ms/step - loss: 0.5550 - acc: 0.7240 - val_loss: 0.6260 - val_acc: 0.6740\n"
          ],
          "name": "stdout"
        }
      ]
    },
    {
      "cell_type": "markdown",
      "metadata": {
        "id": "BRdU5yrkUF_b"
      },
      "source": [
        "# Task 2:\n",
        "\n",
        "We have used Dropout to enhance the performance of the CNN model. Can you please use whatever you like to further enhance the performance from `val_acc: 0.7506`? "
      ]
    },
    {
      "cell_type": "code",
      "metadata": {
        "id": "frVD_gpUFI2k"
      },
      "source": [
        "model1 = models.Sequential()\n",
        "model1.add(layers.Conv2D(32, (3, 3), activation='relu',\n",
        "input_shape=(150, 150, 3)))\n",
        "model1.add(layers.MaxPooling2D((2, 2)))\n",
        "model1.add(layers.Conv2D(64, (3, 3), activation='relu'))\n",
        "model1.add(layers.MaxPooling2D((2, 2)))\n",
        "model1.add(layers.Conv2D(128, (3, 3), activation='relu'))\n",
        "model1.add(layers.MaxPooling2D((2, 2)))\n",
        "model1.add(layers.Conv2D(128, (3, 3), activation='relu'))\n",
        "model1.add(layers.MaxPooling2D((2, 2)))\n",
        "model1.add(layers.Flatten())\n",
        "model1.add(layers.Dropout(0.5))\n",
        "model1.add(layers.Dense(512, activation='relu'))\n",
        "model1.add(layers.Dense(1, activation='sigmoid'))\n",
        "\n"
      ],
      "execution_count": null,
      "outputs": []
    },
    {
      "cell_type": "code",
      "metadata": {
        "id": "w84pLzuYIkER"
      },
      "source": [
        "model1.compile(loss='binary_crossentropy',\n",
        "              optimizer=optimizers.RMSprop(lr=1e-4),\n",
        "              metrics=['acc'])"
      ],
      "execution_count": null,
      "outputs": []
    },
    {
      "cell_type": "code",
      "metadata": {
        "colab": {
          "base_uri": "https://localhost:8080/"
        },
        "id": "tm_RP72uIkl0",
        "outputId": "a494adc3-6ccb-4002-c62b-79c86f4be148"
      },
      "source": [
        "\n",
        "new_history = model1.fit_generator(train_generator,\n",
        "                              steps_per_epoch=100,\n",
        "                              epochs=25,\n",
        "                              validation_data=validation_generator,\n",
        "                              validation_steps=50)"
      ],
      "execution_count": null,
      "outputs": [
        {
          "output_type": "stream",
          "text": [
            "/usr/local/lib/python3.7/dist-packages/tensorflow/python/keras/engine/training.py:1844: UserWarning: `Model.fit_generator` is deprecated and will be removed in a future version. Please use `Model.fit`, which supports generators.\n",
            "  warnings.warn('`Model.fit_generator` is deprecated and '\n"
          ],
          "name": "stderr"
        },
        {
          "output_type": "stream",
          "text": [
            "Epoch 1/25\n",
            "100/100 [==============================] - 16s 162ms/step - loss: 0.5513 - acc: 0.7235 - val_loss: 0.5231 - val_acc: 0.7490\n",
            "Epoch 2/25\n",
            "100/100 [==============================] - 16s 161ms/step - loss: 0.5476 - acc: 0.7225 - val_loss: 0.5668 - val_acc: 0.7020\n",
            "Epoch 3/25\n",
            "100/100 [==============================] - 16s 162ms/step - loss: 0.5549 - acc: 0.7175 - val_loss: 0.5345 - val_acc: 0.7400\n",
            "Epoch 4/25\n",
            "100/100 [==============================] - 16s 162ms/step - loss: 0.5276 - acc: 0.7355 - val_loss: 0.6181 - val_acc: 0.6750\n",
            "Epoch 5/25\n",
            "100/100 [==============================] - 16s 161ms/step - loss: 0.5393 - acc: 0.7260 - val_loss: 0.5355 - val_acc: 0.7290\n",
            "Epoch 6/25\n",
            "100/100 [==============================] - 16s 162ms/step - loss: 0.5210 - acc: 0.7445 - val_loss: 0.4997 - val_acc: 0.7620\n",
            "Epoch 7/25\n",
            "100/100 [==============================] - 16s 162ms/step - loss: 0.5283 - acc: 0.7345 - val_loss: 0.5560 - val_acc: 0.7320\n",
            "Epoch 8/25\n",
            "100/100 [==============================] - 16s 162ms/step - loss: 0.5206 - acc: 0.7345 - val_loss: 0.5082 - val_acc: 0.7470\n",
            "Epoch 9/25\n",
            "100/100 [==============================] - 16s 162ms/step - loss: 0.5117 - acc: 0.7515 - val_loss: 0.4889 - val_acc: 0.7670\n",
            "Epoch 10/25\n",
            "100/100 [==============================] - 16s 161ms/step - loss: 0.5233 - acc: 0.7380 - val_loss: 0.5442 - val_acc: 0.7190\n",
            "Epoch 11/25\n",
            "100/100 [==============================] - 16s 163ms/step - loss: 0.5182 - acc: 0.7565 - val_loss: 0.4896 - val_acc: 0.7640\n",
            "Epoch 12/25\n",
            "100/100 [==============================] - 16s 161ms/step - loss: 0.5139 - acc: 0.7560 - val_loss: 0.5024 - val_acc: 0.7530\n",
            "Epoch 13/25\n",
            "100/100 [==============================] - 16s 164ms/step - loss: 0.4992 - acc: 0.7530 - val_loss: 0.4907 - val_acc: 0.7620\n",
            "Epoch 14/25\n",
            "100/100 [==============================] - 16s 161ms/step - loss: 0.5006 - acc: 0.7540 - val_loss: 0.5124 - val_acc: 0.7520\n",
            "Epoch 15/25\n",
            "100/100 [==============================] - 16s 162ms/step - loss: 0.4992 - acc: 0.7555 - val_loss: 0.5140 - val_acc: 0.7490\n",
            "Epoch 16/25\n",
            "100/100 [==============================] - 16s 160ms/step - loss: 0.5032 - acc: 0.7590 - val_loss: 0.4904 - val_acc: 0.7610\n",
            "Epoch 17/25\n",
            "100/100 [==============================] - 16s 161ms/step - loss: 0.4970 - acc: 0.7590 - val_loss: 0.4807 - val_acc: 0.7640\n",
            "Epoch 18/25\n",
            "100/100 [==============================] - 16s 159ms/step - loss: 0.5047 - acc: 0.7475 - val_loss: 0.4927 - val_acc: 0.7440\n",
            "Epoch 19/25\n",
            "100/100 [==============================] - 16s 160ms/step - loss: 0.4952 - acc: 0.7575 - val_loss: 0.4642 - val_acc: 0.7810\n",
            "Epoch 20/25\n",
            "100/100 [==============================] - 16s 161ms/step - loss: 0.4975 - acc: 0.7615 - val_loss: 0.5564 - val_acc: 0.7090\n",
            "Epoch 21/25\n",
            "100/100 [==============================] - 16s 159ms/step - loss: 0.4913 - acc: 0.7475 - val_loss: 0.4971 - val_acc: 0.7610\n",
            "Epoch 22/25\n",
            "100/100 [==============================] - 16s 161ms/step - loss: 0.4747 - acc: 0.7700 - val_loss: 0.5360 - val_acc: 0.7470\n",
            "Epoch 23/25\n",
            "100/100 [==============================] - 16s 164ms/step - loss: 0.4814 - acc: 0.7670 - val_loss: 0.4753 - val_acc: 0.7650\n",
            "Epoch 24/25\n",
            "100/100 [==============================] - 16s 162ms/step - loss: 0.4816 - acc: 0.7680 - val_loss: 0.4748 - val_acc: 0.7760\n",
            "Epoch 25/25\n",
            "100/100 [==============================] - 16s 162ms/step - loss: 0.4745 - acc: 0.7640 - val_loss: 0.5143 - val_acc: 0.7620\n"
          ],
          "name": "stdout"
        }
      ]
    },
    {
      "cell_type": "code",
      "metadata": {
        "id": "MfopNRssIidS"
      },
      "source": [
        ""
      ],
      "execution_count": null,
      "outputs": []
    }
  ]
}